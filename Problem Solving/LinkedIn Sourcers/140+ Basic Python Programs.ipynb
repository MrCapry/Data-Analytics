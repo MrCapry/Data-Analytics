{
 "cells": [
  {
   "cell_type": "markdown",
   "id": "fb81208e",
   "metadata": {},
   "source": [
    "### Interesting ones: 86 - Binary search"
   ]
  },
  {
   "cell_type": "code",
   "execution_count": 1,
   "id": "059493d5",
   "metadata": {},
   "outputs": [],
   "source": [
    "import numpy as np\n",
    "import string\n",
    "import pandas as pd\n",
    "from collections import Counter\n",
    "import re\n",
    "import random\n",
    "import math\n",
    "import csv\n",
    "import calendar"
   ]
  },
  {
   "cell_type": "code",
   "execution_count": 11,
   "id": "c740eef5",
   "metadata": {},
   "outputs": [],
   "source": [
    "# Program 4\n",
    "# Swaping two varaibles\n",
    "\n",
    "a,b = 10,20\n",
    "temp = a\n",
    "a = b\n",
    "b = temp\n",
    "a,b\n",
    "\n",
    "\n",
    "a,b = 10,20\n",
    "a,b = b,a"
   ]
  },
  {
   "cell_type": "code",
   "execution_count": 12,
   "id": "faefe54a",
   "metadata": {},
   "outputs": [
    {
     "name": "stdout",
     "output_type": "stream",
     "text": [
      "   February 2024\n",
      "Mo Tu We Th Fr Sa Su\n",
      "          1  2  3  4\n",
      " 5  6  7  8  9 10 11\n",
      "12 13 14 15 16 17 18\n",
      "19 20 21 22 23 24 25\n",
      "26 27 28 29\n",
      "\n"
     ]
    }
   ],
   "source": [
    "# Program 8\n",
    "year  = 2024\n",
    "month = 2\n",
    "cal = calendar.month(year,month)\n",
    "print(cal)"
   ]
  },
  {
   "cell_type": "code",
   "execution_count": 16,
   "id": "7a583452",
   "metadata": {},
   "outputs": [
    {
     "name": "stdout",
     "output_type": "stream",
     "text": [
      "2 3 5 7 11 13 17 19 23 29 31 37 41 43 47 53 59 61 67 71 73 79 83 89 97 "
     ]
    }
   ],
   "source": [
    "# Program 14\n",
    "# another approach of problem\n",
    "\n",
    "\n",
    "def is_prime(n):\n",
    "    flag = True\n",
    "    if n==1:\n",
    "        flag=False\n",
    "    else:\n",
    "        for i in range(2,n):\n",
    "            if n%i==0:\n",
    "                flag = False\n",
    "                break\n",
    "    return flag\n",
    "\n",
    "pr_nums = list(filter(is_prime,range(1,101)))\n",
    "for k in pr_nums:\n",
    "    print(k, end=' ')\n"
   ]
  },
  {
   "cell_type": "code",
   "execution_count": 35,
   "id": "1a2e59b5",
   "metadata": {},
   "outputs": [
    {
     "data": {
      "text/plain": [
       "array([ 1,  2,  3,  5,  7, 11, 13, 17, 19, 23, 29, 31, 37, 41, 43, 47, 53,\n",
       "       59, 61, 67, 71, 73, 79, 83, 89, 97])"
      ]
     },
     "execution_count": 35,
     "metadata": {},
     "output_type": "execute_result"
    }
   ],
   "source": [
    "# Program 15\n",
    "# Display all prime numbers in a given interval\n",
    "\n",
    "def prime_numbers(start,end):\n",
    "    prms = []\n",
    "    for i in range(start,end+1):\n",
    "        for k in range(2,i):\n",
    "            if i%k==0:\n",
    "                break\n",
    "        else:\n",
    "            prms.append(i) 
    "    return prms\n",
    "\n",
    "x = np.array(prime_numbers(1,100)).flatten()\n",
    "x"
   ]
  },
  {
   "cell_type": "code",
   "execution_count": 38,
   "id": "27e8ad5d",
   "metadata": {},
   "outputs": [
    {
     "name": "stdout",
     "output_type": "stream",
     "text": [
      "3\n",
      "3\n",
      "0\n",
      "2\n"
     ]
    }
   ],
   "source": [
    "# Program 19\n",
    "# Reversing number without turning into a string\n",
    "\n",
    "number = 2033\n",
    "\n",
    "while number!=0:\n",
    "    lst = number%10\n",
    "    number //= 10\n",
    "    print(lst)"
   ]
  },
  {
   "cell_type": "code",
   "execution_count": 39,
   "id": "ab2ab354",
   "metadata": {},
   "outputs": [
    {
     "data": {
      "text/plain": [
       "78"
      ]
     },
     "execution_count": 39,
     "metadata": {},
     "output_type": "execute_result"
    }
   ],
   "source": [
    "# Program 33\n",
    "# Maximum of arr\n",
    "\n",
    "def maximum(lst):\n",
    "    mx = 0\n",
    "    for i in lst:\n",
    "        if i>mx:\n",
    "            mx=i\n",
    "    return mx\n",
    "\n",
    "test_ls  = [23,56,12,78]\n",
    "maximum(test_ls)"
   ]
  },
  {
   "cell_type": "code",
   "execution_count": 42,
   "id": "f0b71523",
   "metadata": {},
   "outputs": [
    {
     "data": {
      "text/plain": [
       "[3, 4, 5, 1, 2]"
      ]
     },
     "execution_count": 42,
     "metadata": {},
     "output_type": "execute_result"
    }
   ],
   "source": [
    "# Program 34\n",
    "# Array rotation\n",
    "\n",
    "def rotation(arr,d):\n",
    "    fr_part  = arr[d:]\n",
    "    sc_part = arr[:d]\n",
    "    fin_part = fr_part+sc_part\n",
    "    return fin_part\n",
    "\n",
    "test_arr = [1,2,3,4,5]\n",
    "rotation(test_arr,2)"
   ]
  },
  {
   "cell_type": "code",
   "execution_count": 75,
   "id": "e43f5ef1",
   "metadata": {},
   "outputs": [
    {
     "data": {
      "text/plain": [
       "(True, True, False)"
      ]
     },
     "execution_count": 75,
     "metadata": {},
     "output_type": "execute_result"
    }
   ],
   "source": [
    "# Program 36\n",
    "# Check if array is Monotonic (only increasing or only decreasing)\n",
    "\n",
    "\n",
    "def is_monotonic(arr):\n",
    "    increasing = decreasing = True\n",
    "    # Checking increasing\n",
    "    for i in range(1,len(arr)):\n",
    "        if arr[i]<arr[i-1]:\n",
    "            increasing = False\n",
    "            break\n",
    "    # Checking if decreasing\n",
    "    for i in range(1,len(arr)):\n",
    "        if arr[i]>arr[i-1]:\n",
    "            decreasing = False\n",
    "            break\n",
    "    return increasing or decreasing\n",
    "            \n",
    "tst_1 = [1,2,3,4]\n",
    "tst_2 = [5,4,3]\n",
    "tst_3 = [1,2,1,4]\n",
    "\n",
    "is_monotonic(tst_1), is_monotonic(tst_2), is_monotonic(tst_3)"
   ]
  },
  {
   "cell_type": "code",
   "execution_count": 83,
   "id": "c935990d",
   "metadata": {},
   "outputs": [
    {
     "data": {
      "text/plain": [
       "(True, True, False)"
      ]
     },
     "execution_count": 83,
     "metadata": {},
     "output_type": "execute_result"
    }
   ],
   "source": [
    "# Program 36\n",
    "\n",
    "\n",
    "def is_monotonic(arr):\n",
    "    increasing = decreasing = True   \n",
    "    for i in range(1,len(arr)):\n",
    "        if arr[i]>arr[i-1]:\n",
    "            decreasing = False\n",
    "        elif arr[i]<arr[i-1]:\n",
    "            increasing = False\n",
    "        \n",
    "    return increasing or decreasing\n",
    "\n",
    "tst_1 = [1,2,3,4]\n",
    "tst_2 = [5,4,3]\n",
    "tst_3 = [1,2,1,4]\n",
    "\n",
    "is_monotonic(tst_1), is_monotonic(tst_2), is_monotonic(tst_3)            "
   ]
  },
  {
   "cell_type": "code",
   "execution_count": 10,
   "id": "4da145fd",
   "metadata": {},
   "outputs": [
    {
     "data": {
      "text/plain": [
       "[[0, 0, 0], [0, 0, 0], [0, 0, 0]]"
      ]
     },
     "execution_count": 10,
     "metadata": {},
     "output_type": "execute_result"
    }
   ],
   "source": [
    "# Program 37\n",
    "# Add two Matrices\n",
    "\n",
    "matrix_1 = [[1,2,3],[4,5,6],[7,8,9]]\n",
    "matrix_2 = [[1,2,3],[4,5,6],[7,8,9]]\n",
    "\n",
    "def add_matrix(mat1,mat2):\n",
    "    if len(mat1)!=len(mat2):\n",
    "        return \"Pleas put same shape matrices\"\n",
    "    else:\n",
    "        for i in range(len(mat1)):\n",
    "            if len(mat1[i])!=len(mat2[i]):\n",
    "                return \"Please put same shape matrices\"\n",
    "    final_result = []\n",
    "    for i in range(len(mat1)):\n",
    "        row = []\n",
    "        for j in range(len(mat1[i])):\n",
    "            row.append(mat1[i][j]+mat2[i][j])\n",
    "        final_result.append(row)\n",
    "    return final_result\n",
    "        \n",
    "add_matrix(matrix_1,matrix_2)\n",
    "\n",
    "# Multiply Matrix-ებზეც მსგავსი ლოგიკა მუშაობს აბსოლიტურად\n",
    "\n",
    "# Initializing Matrix\n",
    "\n",
    "mat1 = [1,2,3]\n",
    "mat2 = [2,3,4]\n",
    "\n",
    "result = [[0 for _ in range(len(mat1))] for _ in range(len(mat2))]\n",
    "result"
   ]
  },
  {
   "cell_type": "code",
   "execution_count": 20,
   "id": "7b7f3ef2",
   "metadata": {},
   "outputs": [
    {
     "data": {
      "text/plain": [
       "[[1, 4], [2, 5], [3, 6]]"
      ]
     },
     "execution_count": 20,
     "metadata": {},
     "output_type": "execute_result"
    }
   ],
   "source": [
    "# Program 39\n",
    "# Transpose Matrix\n",
    "# That is how NumPy is made of\n",
    "\n",
    "def transpose_matrix(matrix):\n",
    "    rows, cols = len(matrix),len(matrix[0])\n",
    "    # Creating filling matrix\n",
    "    result = [[0 for _ in range(rows)] for _ in range(cols)]\n",
    "    \n",
    "    for i in range(rows):\n",
    "        for j in range(cols):\n",
    "            # ეს რომ დაუფიქრდე, მართლაც ასე მუშაობს რორამე\n",
    "            result[j][i] = matrix[i][j]\n",
    "    return result\n",
    "\n",
    "testing = [[1,2,3],[4,5,6]]\n",
    "transpose_matrix(testing)"
   ]
  },
  {
   "cell_type": "code",
   "execution_count": 24,
   "id": "e27ec08f",
   "metadata": {},
   "outputs": [
    {
     "data": {
      "text/plain": [
       "[1, 2, 3, 4, 5, 6, 7, 8, 9, 89]"
      ]
     },
     "execution_count": 24,
     "metadata": {},
     "output_type": "execute_result"
    }
   ],
   "source": [
    "# Program 43\n",
    "# Disarium number\n",
    "\n",
    "def is_Disarium(n):\n",
    "    into_str = str(n)\n",
    "    vl = 0\n",
    "    for i in range(len(into_str)):\n",
    "        adding = int(into_str[i])**(i+1)\n",
    "        vl+=adding\n",
    "    return vl==n\n",
    "\n",
    "disariums = list(filter(is_Disarium, range(1,101)))\n",
    "disariums2 = [x for x in range(1,101) if is_Disarium(x)]\n",
    "disariums2\n",
    "    \n"
   ]
  },
  {
   "cell_type": "code",
   "execution_count": 28,
   "id": "55b37b2f",
   "metadata": {},
   "outputs": [
    {
     "data": {
      "text/plain": [
       "[1, 7, 10, 13, 19, 23, 28, 31, 32, 44, 49, 68, 70, 79, 82, 86, 91, 94, 97, 100]"
      ]
     },
     "execution_count": 28,
     "metadata": {},
     "output_type": "execute_result"
    }
   ],
   "source": [
    "# Program 45\n",
    "# Is Happy Number?\n",
    "\n",
    "def is_happy_number(num):\n",
    "    seen = []\n",
    "    \n",
    "    while num!=1 and num not in seen:\n",
    "        seen.append(num)\n",
    "        num = sum(int(i)**2 for i in str(num))\n",
    "    return num == 1\n",
    "\n",
    "happy_numbers = [i for i in range(1,101) if is_happy_number(i)]\n",
    "happy_numbers"
   ]
  },
  {
   "cell_type": "code",
   "execution_count": 31,
   "id": "1ed9adec",
   "metadata": {},
   "outputs": [
    {
     "data": {
      "text/plain": [
       "[1, 2, 3, 4, 5, 6, 7, 8, 9, 10, 12, 18, 20, 21, 24, 27, 30, 36, 40, 42, 45, 48]"
      ]
     },
     "execution_count": 31,
     "metadata": {},
     "output_type": "execute_result"
    }
   ],
   "source": [
    "# Program 47\n",
    "# Harshad Number - Divisible by its sum of digits\n",
    "\n",
    "def is_Harshad(n):\n",
    "    sming = sum(int(i) for i in str(n))\n",
    "    return  n%sming==0\n",
    "\n",
    "harshad_nmbs = [i for i in range(1,50) if is_Harshad(i)]\n",
    "harshad_nmbs\n"
   ]
  },
  {
   "cell_type": "code",
   "execution_count": 35,
   "id": "8bc60f89",
   "metadata": {},
   "outputs": [
    {
     "data": {
      "text/plain": [
       "[2, 6, 12, 20, 30, 42]"
      ]
     },
     "execution_count": 35,
     "metadata": {},
     "output_type": "execute_result"
    }
   ],
   "source": [
    "# Program 48\n",
    "# Is Pronic Number, can be expressed as N*(N-1)\n",
    "\n",
    "def is_Pronic(n):\n",
    "    ending =  int(n ** (1/2)) + 1\n",
    "    for i in range(2,ending+1):\n",
    "        if i*(i-1)==n:\n",
    "            return True\n",
    "    else:\n",
    "        return False\n",
    "    \n",
    "pronic_numbers = [i for i in range(1,50) if is_Pronic(i)]\n",
    "pronic_numbers"
   ]
  },
  {
   "cell_type": "code",
   "execution_count": 39,
   "id": "49389e5d",
   "metadata": {},
   "outputs": [
    {
     "data": {
      "text/plain": [
       "[[1, 2, 3]]"
      ]
     },
     "execution_count": 39,
     "metadata": {},
     "output_type": "execute_result"
    }
   ],
   "source": [
    "# Program 57\n",
    "# Removing empty string from list\n",
    "list_of_lists  = [[1,2,3],[],\"\"]\n",
    "# '', [] აბრუნებს False-ს რორამე\n",
    "filtered_list = [i for i in list_of_lists if i]\n",
    "filtered_list\n"
   ]
  },
  {
   "cell_type": "code",
   "execution_count": 40,
   "id": "6c294c59",
   "metadata": {},
   "outputs": [],
   "source": [
    "# Program 58\n",
    "# Cloning list,  [:], .copy, list(x), list comprehension"
   ]
  },
  {
   "cell_type": "code",
   "execution_count": 8,
   "id": "438a768c",
   "metadata": {},
   "outputs": [
    {
     "data": {
      "text/plain": [
       "'gorg'"
      ]
     },
     "execution_count": 8,
     "metadata": {},
     "output_type": "execute_result"
    }
   ],
   "source": [
    "# Program 61\n",
    "\n",
    "# Removing chars from string\n",
    "\n",
    "def remove_chars(string,chars):\n",
    "    lst = list(chars)\n",
    "    \n",
    "    for i in lst:\n",
    "        while i in string:\n",
    "            string = string.replace(i,\"\")\n",
    "    return string\n",
    "\n",
    "remove_chars('giorgi',['a','e','i'])"
   ]
  },
  {
   "cell_type": "code",
   "execution_count": 10,
   "id": "f9fbce00",
   "metadata": {},
   "outputs": [],
   "source": [
    "# Program 65\n",
    "# Dictioary trick\n",
    "'''\n",
    "dict_t = {}\n",
    "for i in range(x):\n",
    "    if i in y:\n",
    "        dict_t[i] +=1\n",
    "    else:\n",
    "        dict[i] = 1\n",
    "'''\n"
   ]
  },
  {
   "cell_type": "code",
   "execution_count": 15,
   "id": "74b62369",
   "metadata": {},
   "outputs": [
    {
     "name": "stdout",
     "output_type": "stream",
     "text": [
      "a 1\n",
      "b 2\n",
      "c 3\n",
      "a 1 1\n",
      "b 2 1\n",
      "c 3 1\n"
     ]
    }
   ],
   "source": [
    "# Program 70\n",
    "# Iterable Unpacking\n",
    "key_values_lst  = [('a',1),('b',2),('c',3)]\n",
    "\n",
    "for key,value in key_values_lst:\n",
    "    print(key,value)\n",
    "\n",
    "testing  = [('a',1,1),('b',2,1),('c',3,1)]\n",
    "\n",
    "for a,b,c in testing:\n",
    "    print(a,b,c)"
   ]
  },
  {
   "cell_type": "code",
   "execution_count": 27,
   "id": "9285414b",
   "metadata": {},
   "outputs": [
    {
     "name": "stdout",
     "output_type": "stream",
     "text": [
      "0 35 70 105 140 175 210 245 280 315 350 385 \n",
      "[0, 35, 70, 105, 140, 175, 210, 245, 280, 315, 350, 385]\n",
      "0,35,70,105,140,175,210,245,280,315,350,385\n"
     ]
    }
   ],
   "source": [
    "# Program 87\n",
    "def divisible(n):\n",
    "    for num in range(n+1):\n",
    "        if num % 5 ==0 and num % 7 == 0:\n",
    "            yield num\n",
    "            \n",
    "create_list = list(divisible(400))\n",
    "# Iteration\n",
    "for k in divisible(400):\n",
    "    print(k, end =' ')\n",
    "print()\n",
    "print(create_list)\n",
    "\n",
    "print(','.join(map(str,create_list)))"
   ]
  },
  {
   "cell_type": "code",
   "execution_count": 33,
   "id": "2e7d82c4",
   "metadata": {},
   "outputs": [
    {
     "name": "stdout",
     "output_type": "stream",
     "text": [
      "Fibonacci sequence with 1 numbers: [0]\n"
     ]
    }
   ],
   "source": [
    "# Program 89\n",
    "# Fibonacci with list comprehension\n",
    "# Interesting method to use\n",
    "\n",
    "def fibonacci(n):\n",
    "    fib_sequence = [0, 1]  # Start with the first two Fibonacci numbers\n",
    "    # Use list comprehension to generate the remaining Fibonacci numbers\n",
    "    [fib_sequence.append(fib_sequence[-1] + fib_sequence[-2]) for _ in range(2, n)] \n",
    "    return fib_sequence[:n]\n",
    "\n",
    "# Test the function\n",
    "n = 1\n",
    "print(f\"Fibonacci sequence with {n} numbers:\", fibonacci(n))"
   ]
  },
  {
   "cell_type": "code",
   "execution_count": 47,
   "id": "4fd01eda",
   "metadata": {},
   "outputs": [
    {
     "data": {
      "text/plain": [
       "['1', '101', '1010', '1000', '10000', '1011']"
      ]
     },
     "execution_count": 47,
     "metadata": {},
     "output_type": "execute_result"
    }
   ],
   "source": [
    "# Program 97\n",
    "# Number to binary\n",
    "\n",
    "def binary(decimal):\n",
    "    binary_str = ''\n",
    "    while decimal>0:\n",
    "        reminder = decimal % 2\n",
    "        binary_str = str(reminder) + binary_str\n",
    "        decimal //=2\n",
    "    return binary_str if binary_str else '0'\n",
    "\n",
    "testing_t = [1,5,10,8,16,11]\n",
    "list(map(binary,testing_t))"
   ]
  },
  {
   "cell_type": "code",
   "execution_count": 50,
   "id": "4e1375f6",
   "metadata": {},
   "outputs": [
    {
     "data": {
      "text/plain": [
       "[2, 3, 0]"
      ]
     },
     "execution_count": 50,
     "metadata": {},
     "output_type": "execute_result"
    }
   ],
   "source": [
    "# Program 102\n",
    "# If int and greater than -1, add to list\n",
    "\n",
    "def filter_list(lst):\n",
    "    nw_lst = []\n",
    "    for i in lst:\n",
    "        if isinstance(i,int) and i>=0:\n",
    "            nw_lst.append(i)\n",
    "    return nw_lst\n",
    "\n",
    "tst = ['a','b',2,3,-2,0]\n",
    "filter_list(tst)\n"
   ]
  },
  {
   "cell_type": "code",
   "execution_count": 102,
   "id": "5b57a155",
   "metadata": {},
   "outputs": [
    {
     "data": {
      "text/plain": [
       "[2, 3, 3, 9, 9, 9, 9]"
      ]
     },
     "execution_count": 102,
     "metadata": {},
     "output_type": "execute_result"
    }
   ],
   "source": [
    "# Program 106\n",
    "# Remove all occurance and add to end\n",
    "\n",
    "def move_to_end(lst,element):\n",
    "    cnting = lst.count(element)\n",
    "    ''' ცუდი პრაქტიკა არის\n",
    "    for elem in lst:\n",
    "        if elem==element:\n",
    "            lst.remove(elem)\n",
    "    lst.extend([element]*cnting)\n",
    "    return lst\n",
    "    '''\n",
    "    lst = [x for x in lst if x!=element]\n",
    "    lst.extend([element]*cnting)\n",
    "    return lst\n",
    "    \n",
    "testing = [9,2,9,9,3,3,9]\n",
    "move_to_end(testing,9)"
   ]
  },
  {
   "cell_type": "code",
   "execution_count": 105,
   "id": "89cddea8",
   "metadata": {},
   "outputs": [
    {
     "data": {
      "text/plain": [
       "['nika']"
      ]
     },
     "execution_count": 105,
     "metadata": {},
     "output_type": "execute_result"
    }
   ],
   "source": [
    "# Program 125\n",
    "# Isogram, string without duplicate\n",
    "\n",
    "\n",
    "def is_Isogram(string):\n",
    "    isog = True\n",
    "    for i in string:\n",
    "        if string.count(i)>1:\n",
    "            isog = False\n",
    "            break\n",
    "    return isog\n",
    "\n",
    "checking_lst = [\"giorgi\",\"nika\"]\n",
    "lst_t = [i for i in checking_lst if is_Isogram(i)]\n",
    "lst_t\n",
    "\n"
   ]
  },
  {
   "cell_type": "code",
   "execution_count": null,
   "id": "0c7a11df",
   "metadata": {},
   "outputs": [],
   "source": []
  }
 ],
 "metadata": {
  "kernelspec": {
   "display_name": "Python 3 (ipykernel)",
   "language": "python",
   "name": "python3"
  },
  "language_info": {
   "codemirror_mode": {
    "name": "ipython",
    "version": 3
   },
   "file_extension": ".py",
   "mimetype": "text/x-python",
   "name": "python",
   "nbconvert_exporter": "python",
   "pygments_lexer": "ipython3",
   "version": "3.11.5"
  }
 },
 "nbformat": 4,
 "nbformat_minor": 5
}
