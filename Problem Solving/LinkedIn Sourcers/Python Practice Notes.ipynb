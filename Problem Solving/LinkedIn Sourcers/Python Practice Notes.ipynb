{
 "cells": [
  {
   "cell_type": "code",
   "execution_count": 5,
   "id": "b0831374",
   "metadata": {},
   "outputs": [],
   "source": [
    "# Ex 2\n",
    "# Reversing diguts\n",
    "nmb = 2025\n",
    "nw = int(str(nmb)[::-1])"
   ]
  },
  {
   "cell_type": "code",
   "execution_count": 216,
   "id": "569b07c7",
   "metadata": {},
   "outputs": [
    {
     "data": {
      "text/plain": [
       "7"
      ]
     },
     "execution_count": 216,
     "metadata": {},
     "output_type": "execute_result"
    }
   ],
   "source": [
    "# Ex 3\n",
    "# Sum of last 3 digits\n",
    "nmb = 2133\n",
    "nw =[int(i) for i in str(nmb)[-3:]]\n",
    "sum(nw)"
   ]
  },
  {
   "cell_type": "code",
   "execution_count": 94,
   "id": "cbde38ab",
   "metadata": {},
   "outputs": [
    {
     "name": "stdout",
     "output_type": "stream",
     "text": [
      "3000\n",
      "300\n",
      "0\n",
      "2\n"
     ]
    },
    {
     "data": {
      "text/plain": [
       "False"
      ]
     },
     "execution_count": 94,
     "metadata": {},
     "output_type": "execute_result"
    }
   ],
   "source": [
    "# Ex 4\n",
    "# Reverse\n",
    "nmb  = 2033\n",
    "nw = int(str(nmb)[::-1])\n",
    "\n",
    "check = 0\n",
    "\n",
    "# 1000,100,100,1\n",
    "for i in range(len(str(nw))):\n",
    "    number = int(str(nw)[i])*10**(3-i)\n",
    "    print(number)\n",
    "    check+=number\n",
    "\n",
    "check==nmb"
   ]
  },
  {
   "cell_type": "code",
   "execution_count": 95,
   "id": "3a5370a4",
   "metadata": {},
   "outputs": [
    {
     "data": {
      "text/plain": [
       "(2.8284271247461903, 2.8284271247461903)"
      ]
     },
     "execution_count": 95,
     "metadata": {},
     "output_type": "execute_result"
    }
   ],
   "source": [
    "# Ex 5\n",
    "# Calculate distance between to coordinates\n",
    "import math\n",
    "a = [2,3]\n",
    "b = [4,5]\n",
    "\n",
    "dist = (abs((a[0]-b[0]))**2 + abs((a[1]-b[1]))**2) **(1/2)\n",
    "math.dist(a,b), dist"
   ]
  },
  {
   "cell_type": "code",
   "execution_count": 96,
   "id": "513b5ee8",
   "metadata": {},
   "outputs": [
    {
     "name": "stdout",
     "output_type": "stream",
     "text": [
      "False-100  False-101  False-102  False-103  False-104  False-105  False-106  False-107  False-108  False-109  False-110  False-111  False-112  False-113  False-114  False-115  False-116  False-117  False-118  False-119  False-120  False-121  False-122  False-123  False-124  False-125  False-126  False-127  False-128  False-129  False-130  False-131  False-132  False-133  False-134  False-135  False-136  False-137  False-138  False-139  False-140  False-141  False-142  False-143  False-144  False-145  False-146  False-147  False-148  False-149  "
     ]
    },
    {
     "data": {
      "text/plain": [
       "[153, 370, 371, 407]"
      ]
     },
     "execution_count": 96,
     "metadata": {},
     "output_type": "execute_result"
    }
   ],
   "source": [
    "# Ex 8\n",
    "# Is argmstrong Number?\n",
    "# each digit ^3 and sum eqaul to its number\n",
    "\n",
    "def is_armstrong(n):\n",
    "    st = str(n)\n",
    "    sm = 0\n",
    "    for i in st:\n",
    "        inte = int(i)**3\n",
    "        sm+=inte\n",
    "    \n",
    "    if sm==n:\n",
    "        return True\n",
    "    else:\n",
    "        return False\n",
    "for i in range(100,150):\n",
    "    print(is_armstrong(i),i,end='  ',sep='-')\n",
    "    \n",
    "fl = list(filter(is_armstrong,range(100,1000)))\n",
    "\n",
    "# Checking if it is correct\n",
    "def turn_armstrong(n):\n",
    "    st = str(n)\n",
    "    sm = 0\n",
    "    for i in st:\n",
    "        inte = int(i)**3\n",
    "        sm+=inte\n",
    "    return sm\n",
    "\n",
    "mping = list(map(turn_armstrong, fl))\n",
    "mping\n"
   ]
  },
  {
   "cell_type": "code",
   "execution_count": 98,
   "id": "82b1b517",
   "metadata": {},
   "outputs": [
    {
     "data": {
      "text/plain": [
       "[1, 2, 3, 4, 5, 6, 7, 8, 9, 153, 370, 371, 407]"
      ]
     },
     "execution_count": 98,
     "metadata": {},
     "output_type": "execute_result"
    }
   ],
   "source": [
    "# Ex 9\n",
    "# Narcissistic number\n",
    "# Sum of each digit raised by amount of difit\n",
    "\n",
    "def narcissistic(n):\n",
    "    int_st = str(n)\n",
    "    sm = 0\n",
    "    ln = len(int_st)\n",
    "    for i in int_st:\n",
    "        rais = int(i)**ln\n",
    "        sm+=rais\n",
    "    if sm==n:\n",
    "        return True\n",
    "    else:\n",
    "        return False\n",
    "\n",
    "# Checking\n",
    "# Correct, based on chat GPT list\n",
    "flt = list(filter(narcissistic,range(1,1001)))\n",
    "flt"
   ]
  },
  {
   "cell_type": "markdown",
   "id": "779ecfe1",
   "metadata": {},
   "source": [
    "### Python input and output Exercises, PG6"
   ]
  },
  {
   "cell_type": "code",
   "execution_count": 99,
   "id": "bcdb7c26",
   "metadata": {},
   "outputs": [
    {
     "data": {
      "text/plain": [
       "[1, 3, 9, 11, 33, 99]"
      ]
     },
     "execution_count": 99,
     "metadata": {},
     "output_type": "execute_result"
    }
   ],
   "source": [
    "# Ex 5\n",
    "# all factors of given number\n",
    "\n",
    "def all_factors(n):\n",
    "    all_fc = []\n",
    "    for i in range(1,n+1):\n",
    "        if n%i==0:\n",
    "            all_fc.append(i)\n",
    "    return all_fc\n",
    "\n",
    "all_factors(99)"
   ]
  },
  {
   "cell_type": "code",
   "execution_count": null,
   "id": "66566822",
   "metadata": {},
   "outputs": [],
   "source": [
    "# Ex 6\n",
    "# Accepting only 5 inputs\n",
    "# Good example of using While\n",
    "ln = []\n",
    "\n",
    "while len(ln)<5:\n",
    "    x = input(\"Please enter float: \")\n",
    "    ln.append(float(x))\n",
    "print(ln)"
   ]
  },
  {
   "cell_type": "markdown",
   "id": "b28397a9",
   "metadata": {},
   "source": [
    "### if else, loop, range, PG15"
   ]
  },
  {
   "cell_type": "code",
   "execution_count": null,
   "id": "297ffd7e",
   "metadata": {},
   "outputs": [],
   "source": [
    "# Ex 6\n",
    "# Multiplication table\n",
    "for i in range(1,11):\n",
    "    for k in range(1,11):\n",
    "        print(i*k, end = ' ' * (3 - len(str(i*k))))\n",
    "    print()\n"
   ]
  },
  {
   "cell_type": "code",
   "execution_count": 1,
   "id": "daa2e07e",
   "metadata": {},
   "outputs": [
    {
     "data": {
      "text/plain": [
       "[(2, 3), (2, 4), (3, 4)]"
      ]
     },
     "execution_count": 1,
     "metadata": {},
     "output_type": "execute_result"
    }
   ],
   "source": [
    "# Ex 9\n",
    "# All the unique combinations\n",
    "def combinations(a,b):\n",
    "    comb_lst = []\n",
    "    for i in range(a,b+1):\n",
    "        for k in range(i,b+1):\n",
    "            if i!=k:\n",
    "                comb_lst.append((i,k))\n",
    "    return comb_lst\n",
    "\n",
    "combinations(2,4)"
   ]
  },
  {
   "cell_type": "code",
   "execution_count": 36,
   "id": "2c96a7f0",
   "metadata": {},
   "outputs": [
    {
     "name": "stdout",
     "output_type": "stream",
     "text": [
      "1 2 3 5 7 11 13 17 19 23 29 31 37 41 43 47 53 59 61 67 71 73 79 83 89 97 "
     ]
    }
   ],
   "source": [
    "# Ex 10\n",
    "# Is prime number?\n",
    "def is_prime(n):\n",
    "    cnt = 0\n",
    "    for i in range(1,n+1):\n",
    "        if n%i==0:\n",
    "            cnt+=1\n",
    "    if cnt<=2:\n",
    "        return True\n",
    "    else:\n",
    "        return False\n",
    "    \n",
    "primes = list(filter(is_prime, range(1,101)))\n",
    "for i in primes:\n",
    "    print(i, end=\" \")"
   ]
  },
  {
   "cell_type": "code",
   "execution_count": 46,
   "id": "91b1bb52",
   "metadata": {},
   "outputs": [
    {
     "data": {
      "text/plain": [
       "False"
      ]
     },
     "execution_count": 46,
     "metadata": {},
     "output_type": "execute_result"
    }
   ],
   "source": [
    "# Ex 13\n",
    "# Can be rights of traigles?\n",
    "\n",
    "def is_triangle(a,b,c):\n",
    "    lst_ang = sorted([a,b,c])\n",
    "    if sum(lst_ang)!=180:\n",
    "        return False\n",
    "    if max(lst_ang)>sum(lst_ang[:2]):\n",
    "        return False\n",
    "    else:\n",
    "        return True\n",
    "\n",
    "is_triangle(150,15,15)"
   ]
  },
  {
   "cell_type": "code",
   "execution_count": 2,
   "id": "8c7d456a",
   "metadata": {},
   "outputs": [
    {
     "data": {
      "text/plain": [
       "[10, 15, 21, 28, 55]"
      ]
     },
     "execution_count": 2,
     "metadata": {},
     "output_type": "execute_result"
    }
   ],
   "source": [
    "# Ex 19\n",
    "# Some till N\n",
    "\n",
    "def sum_till(n):\n",
    "    suming = 0\n",
    "    for i in range(1,n+1):\n",
    "        suming+=i\n",
    "    return suming\n",
    "\n",
    "lst = [4,5,6,7,10]\n",
    "list(map(sum_till,lst))"
   ]
  },
  {
   "cell_type": "code",
   "execution_count": 53,
   "id": "8c1e4e90",
   "metadata": {},
   "outputs": [
    {
     "data": {
      "text/plain": [
       "35"
      ]
     },
     "execution_count": 53,
     "metadata": {},
     "output_type": "execute_result"
    }
   ],
   "source": [
    "# Ex 20\n",
    "# Multiply, without using *\n",
    "x = 5\n",
    "y = 7\n",
    "c = y\n",
    "for i in range(x-1):\n",
    "    y+=c\n",
    "y"
   ]
  },
  {
   "cell_type": "code",
   "execution_count": 79,
   "id": "87d0a931",
   "metadata": {},
   "outputs": [
    {
     "name": "stdout",
     "output_type": "stream",
     "text": [
      "1 \n",
      "2 2 \n",
      "3 3 3 \n",
      "4 4 4 4 \n"
     ]
    }
   ],
   "source": [
    "# Ex 22\n",
    "# Print following pattern\n",
    "\n",
    "def printing(n):\n",
    "    for i in range(1,n+1):\n",
    "        for k in range(i):\n",
    "            print(i,end=' ')\n",
    "        print()\n",
    "\n",
    "printing(4)"
   ]
  },
  {
   "cell_type": "code",
   "execution_count": 6,
   "id": "c4ac6629",
   "metadata": {},
   "outputs": [
    {
     "name": "stdout",
     "output_type": "stream",
     "text": [
      "1 2 3 4 5 6 7 8 9 10 11 12 13 14 "
     ]
    }
   ],
   "source": [
    "# Ex 23\n",
    "# Printing first 10 natural numbers using While loop\n",
    "i = 0\n",
    "while i<10:\n",
    "    for i in range(1,15):\n",
    "        print(i, end = ' ')"
   ]
  },
  {
   "cell_type": "code",
   "execution_count": 7,
   "id": "840a836a",
   "metadata": {},
   "outputs": [
    {
     "name": "stdout",
     "output_type": "stream",
     "text": [
      "Please enter a number: 23\n",
      "Please enter a number: 23\n",
      "Please enter a number: 23\n",
      "Please enter a number: -2\n",
      "Please enter a number: 0\n",
      "Sum of all numbers are 67 and average is 16.75\n"
     ]
    }
   ],
   "source": [
    "# Ex 25\n",
    "# Accepting numbers till user input is 0, then print sum and average\n",
    "\n",
    "suming = 0\n",
    "cnting = 0\n",
    "\n",
    "while True:\n",
    "    x = input(\"Please enter a number: \")\n",
    "    if int(x)==0:\n",
    "        print(f\"Sum of all numbers are {suming} and average is {round(suming/cnting,2)}\")\n",
    "        break\n",
    "    else:\n",
    "        suming+=int(x)\n",
    "        cnting+=1"
   ]
  },
  {
   "cell_type": "code",
   "execution_count": 8,
   "id": "6e105e95",
   "metadata": {},
   "outputs": [
    {
     "name": "stdout",
     "output_type": "stream",
     "text": [
      "1 3 5 7 9 11 13 15 17 19 21 23 "
     ]
    }
   ],
   "source": [
    "# Ex 26\n",
    "# Print first 25 Odd number\n",
    "i = 1\n",
    "while True:\n",
    "    if i%2==1:\n",
    "        print(i,end=' ')\n",
    "        i+=1\n",
    "    else:\n",
    "        i+=1\n",
    "    if i==25:\n",
    "        break"
   ]
  },
  {
   "cell_type": "code",
   "execution_count": 9,
   "id": "4d3d171f",
   "metadata": {},
   "outputs": [
    {
     "name": "stdout",
     "output_type": "stream",
     "text": [
      "1 \n",
      "1 2 \n",
      "1 2 3 \n",
      "1 2 3 4 \n",
      "1 2 3 4 5 \n",
      "1 2 3 4 5 6 \n"
     ]
    }
   ],
   "source": [
    "# Ex 27\n",
    "# Print followin pattern\n",
    "\n",
    "def triangle(n):\n",
    "    for i in range(1,n+1):\n",
    "        for k in range(1,i+1):\n",
    "            print(k,end = ' ')\n",
    "        print()\n",
    "triangle(6)\n"
   ]
  },
  {
   "cell_type": "code",
   "execution_count": 10,
   "id": "1c8cb0b8",
   "metadata": {},
   "outputs": [
    {
     "name": "stdout",
     "output_type": "stream",
     "text": [
      "1 \n",
      "2 3 \n",
      "4 5 6 \n",
      "7 8 9 10 \n",
      "11 12 13 14 15 \n"
     ]
    }
   ],
   "source": [
    "# Ex 28\n",
    "# Print following pattern\n",
    "\n",
    "def simultaneously(n):\n",
    "    for i in range(1,n+1):\n",
    "        for k in range(1,i+1):\n",
    "            tll_sm = sum(range(1,i))\n",
    "            print(k+tll_sm,end=' ')\n",
    "        print()\n",
    "            \n",
    "simultaneously(5)"
   ]
  },
  {
   "cell_type": "code",
   "execution_count": 11,
   "id": "382664db",
   "metadata": {},
   "outputs": [
    {
     "name": "stdout",
     "output_type": "stream",
     "text": [
      "1 \n",
      "2 3 \n",
      "4 5 6 \n",
      "7 8 9 10 \n",
      "11 12 13 14 15 \n"
     ]
    }
   ],
   "source": [
    "# Ex 28\n",
    "# Easier Solution\n",
    "\n",
    "\n",
    "def simultaneously(n):\n",
    "    st = 1\n",
    "    for i in range(0,n):\n",
    "        for k in range(0,i+1):\n",
    "            print(st,end=' ')\n",
    "            st+=1\n",
    "        print()\n",
    "simultaneously(5)        "
   ]
  },
  {
   "cell_type": "code",
   "execution_count": 16,
   "id": "f204b3a4",
   "metadata": {},
   "outputs": [
    {
     "name": "stdout",
     "output_type": "stream",
     "text": [
      "4 3 2 1 \n",
      "3 2 1 \n",
      "2 1 \n",
      "1 \n"
     ]
    }
   ],
   "source": [
    "# Reverse one of the sequence\n",
    "\n",
    "def inputing(n):\n",
    "    for i in range(n,0,-1): \n",
    "        for k in range(i,0,-1):\n",
    "            print(k,end=' ')\n",
    "        print()\n",
    "\n",
    "inputing(4)"
   ]
  },
  {
   "cell_type": "markdown",
   "id": "4055719b",
   "metadata": {},
   "source": [
    "### Pascal Triangle, waiting ...."
   ]
  },
  {
   "cell_type": "code",
   "execution_count": 52,
   "id": "14192ed6",
   "metadata": {
    "collapsed": true
   },
   "outputs": [
    {
     "name": "stdout",
     "output_type": "stream",
     "text": [
      "      1 \n",
      "     1 \n",
      "1 \n",
      "    1 \n",
      "2 \n",
      "1 \n",
      "   1 \n",
      "2 \n",
      "2 \n",
      "1 \n",
      "  1 \n",
      "2 \n",
      "2 \n",
      "2 \n",
      "1 \n"
     ]
    }
   ],
   "source": [
    "# Ex 29\n",
    "# Pascal Triangle\n",
    "\n",
    "n = 5\n",
    "triangle = [1]\n",
    "\n",
    "for i in range(0,n):\n",
    "    # Displaying one row\n",
    "    sep = n+1-i\n",
    "    print(\" \"*sep,end=\"\")\n",
    "    for j in range(0,i+1):\n",
    "        if j==0 or j==i:\n",
    "            print(triangle[j],end=\" \")\n",
    "        else:\n",
    "            print(triangle[j]+triangle[j-1],end=\" \")\n",
    "        print()\n",
    "    \n",
    "    # Updating Triangle\n",
    "    nw_cp = triangle.copy()\n",
    "    nw_arr = [1]*(len(triangle)+1)\n",
    "    for k in range(len(triangle)+1):\n",
    "        if k==0 or k==len(triangle):\n",
    "            triangle.append(1)\n",
    "        else:\n",
    "            triangle[k]=triangle[k]+triangle[k-1]\n",
    "    triangle = nw_arr"
   ]
  },
  {
   "cell_type": "code",
   "execution_count": 58,
   "id": "e1f31173",
   "metadata": {},
   "outputs": [
    {
     "name": "stdout",
     "output_type": "stream",
     "text": [
      "          1 \n",
      "         1 1 \n",
      "        1 2 1 \n",
      "       1 3 3 1 \n",
      "      1 4 6 4 1 \n",
      "     1 5 10 10 5 1 \n",
      "    1 6 15 20 15 6 1 \n",
      "   1 7 21 35 35 21 7 1 \n",
      "  1 8 28 56 70 56 28 8 1 \n",
      " 1 9 36 84 126 126 84 36 9 1 \n"
     ]
    }
   ],
   "source": [
    "# Chat GPT solution\n",
    "\n",
    "\n",
    "def print_symmetric_pascal_triangle(n):\n",
    "    # Function to calculate factorial\n",
    "    def factorial(num):\n",
    "        if num == 0:\n",
    "            return 1\n",
    "        else:\n",
    "            return num * factorial(num - 1)\n",
    "\n",
    "    # Function to calculate binomial coefficient\n",
    "    def binomial_coefficient(n, k):\n",
    "        return factorial(n) // (factorial(k) * factorial(n - k))\n",
    "\n",
    "    # Loop to iterate through each row of Pascal's triangle\n",
    "    for i in range(n):\n",
    "        # Print leading spaces to center the triangle\n",
    "        print(\" \" * (n - i - 1), end=\" \")\n",
    "\n",
    "        # Loop to print each element of the current row\n",
    "        for j in range(i + 1):\n",
    "            print(binomial_coefficient(i, j), end=\" \")\n",
    "        print()\n",
    "\n",
    "# Example usage:\n",
    "print_symmetric_pascal_triangle(10)"
   ]
  },
  {
   "cell_type": "code",
   "execution_count": 14,
   "id": "abb0a34d",
   "metadata": {},
   "outputs": [
    {
     "name": "stdout",
     "output_type": "stream",
     "text": [
      "2 3 5 7 11 13 17 19 23 29 31 37 41 43 47 53 59 61 67 71 73 79 83 89 97 "
     ]
    }
   ],
   "source": [
    "# Ex 36\n",
    "# Display prime numbers from x to y\n",
    "# 1 is not a prime numbner\n",
    "\n",
    "def prime_list(start,end):\n",
    "    prms = []\n",
    "    for i in range(start,end+1):\n",
    "        cnting = 0\n",
    "        for k in range(1,i+1):\n",
    "            if i%k==0:\n",
    "                cnting+=1\n",
    "        if cnting==2:\n",
    "            prms.append(i)\n",
    "    return prms\n",
    "\n",
    "for k in prime_list(1,100):\n",
    "    print(k,end=\" \")"
   ]
  },
  {
   "cell_type": "code",
   "execution_count": 16,
   "id": "684f0aee",
   "metadata": {},
   "outputs": [
    {
     "name": "stdout",
     "output_type": "stream",
     "text": [
      "0 1 1 2 3 5 8 13 21 34 55 "
     ]
    }
   ],
   "source": [
    "# Ex 37\n",
    "# Fibonacci sequence, another solution\n",
    "\n",
    "def fibo_seq(n):\n",
    "    num1 = 0\n",
    "    num2 = 1\n",
    "    print(num1,num2,end=\" \")\n",
    "    for i in range(n):\n",
    "        # ასეთ სტილშიც მოსულა რორამე\n",
    "        num3 = num1+num2\n",
    "        num1,num2 = num2,num3\n",
    "        print(num3,end=\" \")\n",
    "\n",
    "fibo_seq(9)"
   ]
  },
  {
   "cell_type": "code",
   "execution_count": 17,
   "id": "1d33154b",
   "metadata": {},
   "outputs": [
    {
     "data": {
      "text/plain": [
       "24690"
      ]
     },
     "execution_count": 17,
     "metadata": {},
     "output_type": "execute_result"
    }
   ],
   "source": [
    "# Ex 42\n",
    "# Sums 2's\n",
    "\n",
    "def two_sum(n):\n",
    "    sming = 0\n",
    "    for i in range(1,1+n):\n",
    "        cr = int('2'*i)\n",
    "        sming+=cr\n",
    "    return sming\n",
    "\n",
    "two_sum(5)"
   ]
  },
  {
   "cell_type": "code",
   "execution_count": 18,
   "id": "66f0fa20",
   "metadata": {},
   "outputs": [
    {
     "name": "stdout",
     "output_type": "stream",
     "text": [
      "* * * * * \n",
      "* * * * \n",
      "* * * \n",
      "* * \n",
      "* \n",
      "\n",
      "* * * * * \n",
      "* * * * \n",
      "* * * \n",
      "* * \n",
      "* \n"
     ]
    }
   ],
   "source": [
    "# Ex 43\n",
    "# Half-Pyramid asterisk\n",
    "\n",
    "def asterisk(n):\n",
    "    for i in range(n,0,-1):\n",
    "        print(\"* \"*i)\n",
    "\n",
    "def asterisk_2(n):\n",
    "    for i in range(n,0,-1):\n",
    "        for k in range(i,0,-1):\n",
    "            print(\"*\",end=' ')\n",
    "        print()\n",
    "\n",
    "asterisk(5)\n",
    "print()\n",
    "asterisk_2(5)"
   ]
  },
  {
   "cell_type": "code",
   "execution_count": 19,
   "id": "09d9a95c",
   "metadata": {},
   "outputs": [
    {
     "name": "stdout",
     "output_type": "stream",
     "text": [
      "* \n",
      "* * \n",
      "* * * \n",
      "* * * * \n",
      "* * * * * \n",
      "* * * * * * \n"
     ]
    }
   ],
   "source": [
    "# Ex 44\n",
    "# Right Half side of Pyramid\n",
    "\n",
    "n = 6\n",
    "\n",
    "for i in range(1,n+1):\n",
    "    for k in range(1,i+1):\n",
    "        print(\"*\",end=' ')\n",
    "    print()\n"
   ]
  },
  {
   "cell_type": "code",
   "execution_count": 20,
   "id": "96533693",
   "metadata": {},
   "outputs": [
    {
     "name": "stdout",
     "output_type": "stream",
     "text": [
      "      * \n",
      "     * * \n",
      "    * * * \n",
      "   * * * * \n",
      "  * * * * * \n",
      " * * * * * * \n",
      "* * * * * * * \n"
     ]
    }
   ],
   "source": [
    "# Ex 45\n",
    "# Printing Pyramid\n",
    "def christmas_tree(n):    \n",
    "    for i in range(1,n+1):\n",
    "        mx = n\n",
    "        whitesp =(mx-i)\n",
    "        print(\" \"*whitesp,end=\"\")\n",
    "        for k in range(1,i+1):\n",
    "            print(\"*\", end=\" \")\n",
    "        print()\n",
    "\n",
    "christmas_tree(7)"
   ]
  },
  {
   "cell_type": "code",
   "execution_count": 21,
   "id": "eb1116a7",
   "metadata": {},
   "outputs": [
    {
     "name": "stdout",
     "output_type": "stream",
     "text": [
      "* \n",
      "* * \n",
      "* * * \n",
      "* * * * \n",
      "* * * * * \n",
      "* * * * * * \n",
      "* * * * * \n",
      "* * * * \n",
      "* * * \n",
      "* * \n",
      "* \n"
     ]
    }
   ],
   "source": [
    "# Ex 46\n",
    "# * task, something like rocket triangle \n",
    "# N should be odd\n",
    "\n",
    "def rocket_triangle(n):\n",
    "    if n%2==0:\n",
    "        print(\"Please enter odd number.\")\n",
    "    else:\n",
    "        middle = n//2+1    \n",
    "        for i in range(1,n+1):\n",
    "            times = middle - abs(i-middle)\n",
    "            for k in range(1,times+1):\n",
    "                print(\"*\",end=\" \")\n",
    "            print()\n",
    "\n",
    "rocket_triangle(11)"
   ]
  },
  {
   "cell_type": "markdown",
   "id": "a3b06443",
   "metadata": {},
   "source": [
    "### Python Functions Excercises, PG 39"
   ]
  },
  {
   "cell_type": "code",
   "execution_count": 23,
   "id": "f7f29c9e",
   "metadata": {},
   "outputs": [
    {
     "name": "stdout",
     "output_type": "stream",
     "text": [
      "1 2 145 40585 "
     ]
    }
   ],
   "source": [
    "# Ex 17\n",
    "# Strong number --> sum of each digit factorial is its number\n",
    "\n",
    "def strong_number(n):\n",
    "    to_str = str(n)\n",
    "    sming = 0\n",
    "    for i in to_str:\n",
    "        fac_sum = 1\n",
    "        for t in range(1,int(i)+1):\n",
    "            fac_sum *= t\n",
    "        sming+= fac_sum\n",
    "    if sming==n:\n",
    "        return True\n",
    "    else:\n",
    "        return False\n",
    "    \n",
    "strong_numbers = list(filter(strong_number,range(1,50000)))\n",
    "\n",
    "for k in strong_numbers:\n",
    "    print(k, end=\" \")"
   ]
  },
  {
   "cell_type": "code",
   "execution_count": 24,
   "id": "5418176f",
   "metadata": {},
   "outputs": [
    {
     "data": {
      "text/plain": [
       "[6, 28, 496]"
      ]
     },
     "execution_count": 24,
     "metadata": {},
     "output_type": "execute_result"
    }
   ],
   "source": [
    "# Ex 18\n",
    "# Perfect Number\n",
    "\n",
    "def perfect_number(n):\n",
    "    sming = 0\n",
    "    for i in range(1,n):\n",
    "        if n%i==0:\n",
    "            sming+=i\n",
    "    if sming==n:\n",
    "        return True\n",
    "    else:\n",
    "        return False\n",
    "    \n",
    "perf_numbers = list(filter(perfect_number,range(1,1001)))\n",
    "perf_numbers\n"
   ]
  },
  {
   "cell_type": "markdown",
   "id": "a3492c8a",
   "metadata": {},
   "source": [
    "### Python String Excercises, PG 48"
   ]
  },
  {
   "cell_type": "code",
   "execution_count": 25,
   "id": "2b28fe34",
   "metadata": {},
   "outputs": [
    {
     "data": {
      "text/plain": [
       "2"
      ]
     },
     "execution_count": 25,
     "metadata": {},
     "output_type": "execute_result"
    }
   ],
   "source": [
    "# Ex 1\n",
    "# How many times given substring happens in string\n",
    "string = 'giorgi kargi biwia hah giorgi'\n",
    "substring = 'giorgi'\n",
    "string.count(substring)"
   ]
  },
  {
   "cell_type": "code",
   "execution_count": 67,
   "id": "4a64c5bd",
   "metadata": {},
   "outputs": [
    {
     "data": {
      "text/plain": [
       "'elloworldH'"
      ]
     },
     "execution_count": 67,
     "metadata": {},
     "output_type": "execute_result"
    }
   ],
   "source": [
    "# Ex 10\n",
    "#Lower cases appear first\n",
    "string_t =  'Hello World'\n",
    "def first_lower(string):\n",
    "    emp_arr = []\n",
    "    addition = []\n",
    "    string_t = string.replace(' ','')\n",
    "    for i in string_t.replace(' ',''):\n",
    "        if i.islower():\n",
    "            emp_arr.append(i)\n",
    "        else:\n",
    "            addition.append(i)\n",
    "    emp_arr.extend(addition)\n",
    "    return ''.join(emp_arr)\n",
    "\n",
    "first_lower('Hello world')"
   ]
  },
  {
   "cell_type": "code",
   "execution_count": 27,
   "id": "1f06a3f3",
   "metadata": {},
   "outputs": [
    {
     "data": {
      "text/plain": [
       "'xCyBzA'"
      ]
     },
     "execution_count": 27,
     "metadata": {},
     "output_type": "execute_result"
    }
   ],
   "source": [
    "# Ex 12\n",
    "# Mixed String\n",
    "# Length of both strings are same\n",
    "def mixed_str(str1,str2):\n",
    "    fin_wr = ''\n",
    "    for i in range(len(str1)):\n",
    "        fin_wr+=str1[i]+str2[-i-1]\n",
    "    return fin_wr\n",
    "\n",
    "mixed_str('xyz','ABC')"
   ]
  },
  {
   "cell_type": "code",
   "execution_count": 29,
   "id": "3d33c2dc",
   "metadata": {},
   "outputs": [
    {
     "data": {
      "text/plain": [
       "False"
      ]
     },
     "execution_count": 29,
     "metadata": {},
     "output_type": "execute_result"
    }
   ],
   "source": [
    "# Ex 13\n",
    "# Balanced strings\n",
    "\n",
    "def balanced_str(str1,str2):\n",
    "    cnting = 0\n",
    "    for i in str1:\n",
    "        if i in str2:\n",
    "            cnting+=1\n",
    "    if cnting==len(str1):\n",
    "        return True\n",
    "    else:\n",
    "        return False\n",
    "    \n",
    "balanced_str('giok','giorgi')"
   ]
  },
  {
   "cell_type": "code",
   "execution_count": 30,
   "id": "42cb90fa",
   "metadata": {},
   "outputs": [
    {
     "data": {
      "text/plain": [
       "[0, 17, 30]"
      ]
     },
     "execution_count": 30,
     "metadata": {},
     "output_type": "execute_result"
    }
   ],
   "source": [
    "# Ex 14\n",
    "# all occurances of given substring is String\n",
    "\n",
    "def all_occurances(substring,string):\n",
    "    occur = []\n",
    "    starter = 0\n",
    "    while True:\n",
    "        curr = string.find(substring,starter)\n",
    "        if curr==-1:\n",
    "            break\n",
    "        else:\n",
    "            occur.append(curr)\n",
    "            starter = curr+1\n",
    "    return occur\n",
    "\n",
    "all_occurances('gio','gio magari biwio gio sagol ra gio')\n"
   ]
  },
  {
   "cell_type": "code",
   "execution_count": 88,
   "id": "4af5dc12",
   "metadata": {},
   "outputs": [
    {
     "name": "stdout",
     "output_type": "stream",
     "text": [
      "Giorgi Kai Kaco \n"
     ]
    }
   ],
   "source": [
    "# String to title case, without title() function\n",
    "\n",
    "def title_case(string):\n",
    "    splt = string.split(' ')\n",
    "    fin_str = ''\n",
    "    for i in splt:\n",
    "        fin_str+=i.capitalize()+' '\n",
    "    return fin_str\n",
    "\n",
    "print(title_case('giorgi kai kaco'))"
   ]
  },
  {
   "cell_type": "code",
   "execution_count": 31,
   "id": "3b28b0e2",
   "metadata": {},
   "outputs": [
    {
     "data": {
      "text/plain": [
       "(14, 1.75)"
      ]
     },
     "execution_count": 31,
     "metadata": {},
     "output_type": "execute_result"
    }
   ],
   "source": [
    "# Ex 16\n",
    "# Sum and average of digis in string\n",
    "\n",
    "def sum_avg(string):\n",
    "    lst_comp = [int(i) for i in string if i.isdigit()]\n",
    "    sming = sum(lst_comp)\n",
    "    average = sming / len(lst_comp)\n",
    "    return sming, average\n",
    "\n",
    "sum_avg('231daadfa23201')"
   ]
  },
  {
   "cell_type": "code",
   "execution_count": 222,
   "id": "0a0a82a8",
   "metadata": {},
   "outputs": [
    {
     "data": {
      "text/plain": [
       "'Jon is developer'"
      ]
     },
     "execution_count": 222,
     "metadata": {},
     "output_type": "execute_result"
    }
   ],
   "source": [
    "# Ex 21\n",
    "import re\n",
    "sentence = '/*Jon is developer@'\n",
    "class_sentence = re.sub('[^A-Za-z0-9\\s]',\"\",sentence)\n",
    "class_sentence"
   ]
  },
  {
   "cell_type": "code",
   "execution_count": 218,
   "id": "678febe4",
   "metadata": {},
   "outputs": [
    {
     "data": {
      "text/plain": [
       "'!\"#$%&\\'()*+,-./:;<=>?@[\\\\]^_`{|}~'"
      ]
     },
     "execution_count": 218,
     "metadata": {},
     "output_type": "execute_result"
    }
   ],
   "source": [
    "# Ex 24\n",
    "import string\n",
    "str1 = '/*jon @ developer'\n",
    "string.punctuation"
   ]
  },
  {
   "cell_type": "code",
   "execution_count": 32,
   "id": "9320f19d",
   "metadata": {},
   "outputs": [
    {
     "name": "stdout",
     "output_type": "stream",
     "text": [
      "gogo\n",
      "nogak\n"
     ]
    }
   ],
   "source": [
    "# Ex 25\n",
    "# Extracting starters without @ \n",
    "lst_t = ['go@go.20','no@gak.23']\n",
    "\n",
    "for i in lst_t:\n",
    "    # ასეთი რაღაცეები Data-სთან მუშაობს დროს გამომადგება\n",
    "    pr = i.replace('@','').split('.')\n",
    "    print(pr[0])"
   ]
  },
  {
   "cell_type": "markdown",
   "id": "349e0a6c",
   "metadata": {},
   "source": [
    "### Python Data Structure Excercises, PG 61"
   ]
  },
  {
   "cell_type": "code",
   "execution_count": 2,
   "id": "3fc5eb8f",
   "metadata": {},
   "outputs": [
    {
     "data": {
      "text/plain": [
       "[1, 3, 5, 2, 4]"
      ]
     },
     "execution_count": 2,
     "metadata": {},
     "output_type": "execute_result"
    }
   ],
   "source": [
    "# Ex 1\n",
    "# odds from first and evens from second\n",
    "\n",
    "def odd_even(lst1,lst2):\n",
    "    fin_lst = []\n",
    "    \n",
    "    for i in lst1[::2]:\n",
    "        fin_lst.append(i)\n",
    "    for k in lst2[1::2]:\n",
    "        fin_lst.append(k)\n",
    "    return fin_lst\n",
    "\n",
    "list_1 = [1,2,3,4,5]\n",
    "list_2 = [1,2,3,4,5]\n",
    "odd_even(list_1,list_2)"
   ]
  },
  {
   "cell_type": "code",
   "execution_count": 10,
   "id": "5535ee0d",
   "metadata": {},
   "outputs": [
    {
     "data": {
      "text/plain": [
       "[[11, 23, 24], [5, -3, 5], [24, 1, 24]]"
      ]
     },
     "execution_count": 10,
     "metadata": {},
     "output_type": "execute_result"
    }
   ],
   "source": [
    "# Ex 3\n",
    "# 3 Equal chunks\n",
    "test_ls = [11,23,24,5,-3,5,24,1,24]\n",
    "n = 3\n",
    "\n",
    "output = [test_ls[i:i+n] for i in range(0,len(test_ls),n)]\n",
    "output\n"
   ]
  },
  {
   "cell_type": "code",
   "execution_count": 13,
   "id": "911ca53a",
   "metadata": {},
   "outputs": [
    {
     "data": {
      "text/plain": [
       "{11: 1, 23: 1, 24: 3, 5: 2, -3: 1, 1: 1}"
      ]
     },
     "execution_count": 13,
     "metadata": {},
     "output_type": "execute_result"
    }
   ],
   "source": [
    "# Ex 4\n",
    "# Count of each occurance\n",
    "\n",
    "test_ls = [11,23,24,5,-3,5,24,1,24]\n",
    "count = {}\n",
    "for i in test_ls:\n",
    "    if i in count:\n",
    "        count[i]+=1\n",
    "    else:\n",
    "        count[i]=1\n",
    "\n",
    "count        \n"
   ]
  },
  {
   "cell_type": "code",
   "execution_count": 15,
   "id": "020ad3f7",
   "metadata": {},
   "outputs": [
    {
     "data": {
      "text/plain": [
       "[(1, 1), (2, 2), (3, 3)]"
      ]
     },
     "execution_count": 15,
     "metadata": {},
     "output_type": "execute_result"
    }
   ],
   "source": [
    "# Ex 5\n",
    "# Zipping\n",
    "\n",
    "lst_1 = [1,2,3]\n",
    "lst_2 = [1,2,3]\n",
    "\n",
    "list(zip(lst_1,lst_2))"
   ]
  },
  {
   "cell_type": "code",
   "execution_count": 18,
   "id": "90e28905",
   "metadata": {},
   "outputs": [
    {
     "data": {
      "text/plain": [
       "[23]"
      ]
     },
     "execution_count": 18,
     "metadata": {},
     "output_type": "execute_result"
    }
   ],
   "source": [
    "# Ex 7\n",
    "# Checking existance\n",
    "\n",
    "\n",
    "roll_number = [45,34,23,37]\n",
    "sample_dict = {'John':47,'Giorgi':23}\n",
    "\n",
    "roll_number[:] = [item for item in roll_number if item in sample_dict.values()]\n",
    "roll_number"
   ]
  },
  {
   "cell_type": "markdown",
   "id": "05201f5e",
   "metadata": {},
   "source": [
    "### Python List Excercises, PG 66"
   ]
  },
  {
   "cell_type": "code",
   "execution_count": 20,
   "id": "b007eced",
   "metadata": {},
   "outputs": [
    {
     "data": {
      "text/plain": [
       "[1, 2, 3]"
      ]
     },
     "execution_count": 20,
     "metadata": {},
     "output_type": "execute_result"
    }
   ],
   "source": [
    "# Ex 10\n",
    "# Remove empty strings\n",
    "\n",
    "def remove_empty(list_t):\n",
    "    nw_lst = list(filter(lambda x: x!='',list_t))\n",
    "    return nw_lst\n",
    "\n",
    "remove_empty([1,2,3,\"\"])\n",
    "\n"
   ]
  },
  {
   "cell_type": "code",
   "execution_count": 25,
   "id": "5a3fc85e",
   "metadata": {},
   "outputs": [
    {
     "data": {
      "text/plain": [
       "[10, 20, [300, 400, [10, 10, 700], 500], 20]"
      ]
     },
     "execution_count": 25,
     "metadata": {},
     "output_type": "execute_result"
    }
   ],
   "source": [
    "# Ex 11\n",
    "list1 = [10,20,[300,400,[10,10],500],20]\n",
    "list1[2][2].append(700)\n",
    "list1"
   ]
  },
  {
   "cell_type": "code",
   "execution_count": 31,
   "id": "637bd956",
   "metadata": {},
   "outputs": [
    {
     "data": {
      "text/plain": [
       "['sulo', 'gio', 'sandro', 'nika']"
      ]
     },
     "execution_count": 31,
     "metadata": {},
     "output_type": "execute_result"
    }
   ],
   "source": [
    "# Ex 18\n",
    "# Shuffle a list\n",
    "from random import shuffle\n",
    "lst_t = ['gio','nika','sulo','sandro']\n",
    "shuffle(lst_t)\n",
    "lst_t\n",
    "\n"
   ]
  },
  {
   "cell_type": "markdown",
   "id": "79ad4431",
   "metadata": {},
   "source": [
    "### Dictionary, PG 73"
   ]
  },
  {
   "cell_type": "code",
   "execution_count": 33,
   "id": "e76aa81c",
   "metadata": {},
   "outputs": [
    {
     "data": {
      "text/plain": [
       "{'a': 10, 'b': 20, 'c': 30}"
      ]
     },
     "execution_count": 33,
     "metadata": {},
     "output_type": "execute_result"
    }
   ],
   "source": [
    "# Ex 2\n",
    "# Convert into  dictionary\n",
    "keys = ['a','b','c']\n",
    "values = [10,20,30]\n",
    "my_dict = dict(zip(keys,values))\n",
    "my_dict"
   ]
  },
  {
   "cell_type": "code",
   "execution_count": 47,
   "id": "50618f6a",
   "metadata": {},
   "outputs": [
    {
     "data": {
      "text/plain": [
       "{'a': 10, 'b': 20, 'c': 30, 'd': 40, 'e': 50}"
      ]
     },
     "execution_count": 47,
     "metadata": {},
     "output_type": "execute_result"
    }
   ],
   "source": [
    "# Ex 3\n",
    "# Merging into one dictionary\n",
    "my_dict2 = {'d':40,'e':50}\n",
    "\n",
    "\n",
    "new = {**my_dict,**my_dict2}\n",
    "new\n",
    "\n"
   ]
  },
  {
   "cell_type": "code",
   "execution_count": 50,
   "id": "151c4bfa",
   "metadata": {},
   "outputs": [
    {
     "name": "stdout",
     "output_type": "stream",
     "text": [
      "{'Kelly': {'deisgnation': 'Developer', 'Salary': 8000}, 'Emma': {'deisgnation': 'Developer', 'Salary': 8000}}\n"
     ]
    }
   ],
   "source": [
    "# Ex 5\n",
    "\n",
    "employees = ['Kelly','Emma']\n",
    "defaults = {\"deisgnation\":\"Developer\",\"Salary\":8000}\n",
    "result = dict.fromkeys(employees,defaults)\n",
    "print(result)\n"
   ]
  },
  {
   "cell_type": "code",
   "execution_count": 56,
   "id": "8fc167ee",
   "metadata": {},
   "outputs": [
    {
     "data": {
      "text/plain": [
       "{'Name': 'kelly', 'age': 25, 'Location': 'New york'}"
      ]
     },
     "execution_count": 56,
     "metadata": {},
     "output_type": "execute_result"
    }
   ],
   "source": [
    "# Ex 8\n",
    "# Rename key\n",
    "# Interesting approach\n",
    "\n",
    "sample_dict = {\"Name\":\"kelly\",\"age\":25,\"City\":\"New york\"}\n",
    "sample_dict[\"Location\"] = sample_dict.pop(\"City\")\n",
    "sample_dict"
   ]
  },
  {
   "cell_type": "code",
   "execution_count": 70,
   "id": "ec5fc6e7",
   "metadata": {},
   "outputs": [
    {
     "name": "stdout",
     "output_type": "stream",
     "text": [
      "A\n"
     ]
    }
   ],
   "source": [
    "# Ex 10\n",
    "# Minimum of values\n",
    "\n",
    "sample_dict = {\"A\":10,\"B\":20,\"C\":30}\n",
    "x = min(sample_dict.values())\n",
    "# Interesting Appraoch\n",
    "\n",
    "min(sample_dict, key = sample_dict.get)\n",
    "\n",
    "for i,v in sample_dict.items():\n",
    "    if v==x:\n",
    "        print(i)"
   ]
  },
  {
   "cell_type": "markdown",
   "id": "0ac8fef4",
   "metadata": {},
   "source": [
    "### Set Exercises, PG 79"
   ]
  },
  {
   "cell_type": "markdown",
   "id": "68897857",
   "metadata": {},
   "source": [
    "### Tuple Exercises, PG 83"
   ]
  },
  {
   "cell_type": "code",
   "execution_count": 72,
   "id": "4fab5ca6",
   "metadata": {},
   "outputs": [
    {
     "data": {
      "text/plain": [
       "(('a',), tuple)"
      ]
     },
     "execution_count": 72,
     "metadata": {},
     "output_type": "execute_result"
    }
   ],
   "source": [
    "# Ex 3\n",
    "# One element tuplet\n",
    "tup_1 = ('a',)\n",
    "tup_1, type(tup_1)\n"
   ]
  },
  {
   "cell_type": "code",
   "execution_count": 78,
   "id": "05cadfbb",
   "metadata": {},
   "outputs": [
    {
     "data": {
      "text/plain": [
       "(11, [2, 24], 5)"
      ]
     },
     "execution_count": 78,
     "metadata": {},
     "output_type": "execute_result"
    }
   ],
   "source": [
    "# Ex 7\n",
    "\n",
    "tup_tst = (11,[23,24],5)\n",
    "tup_tst[1][0]=2\n",
    "tup_tst"
   ]
  },
  {
   "cell_type": "code",
   "execution_count": 80,
   "id": "391e8a80",
   "metadata": {},
   "outputs": [
    {
     "data": {
      "text/plain": [
       "[('b', 15), ('a', 23), ('c', 23)]"
      ]
     },
     "execution_count": 80,
     "metadata": {},
     "output_type": "execute_result"
    }
   ],
   "source": [
    "# Ex 8\n",
    "# Sorting tuple\n",
    "tpl_t = (('a',23),('b',15),('c',23))\n",
    "srt_t = sorted(tpl_t,key = lambda x:x[1])\n",
    "srt_t\n",
    "\n"
   ]
  },
  {
   "cell_type": "code",
   "execution_count": 83,
   "id": "80b30573",
   "metadata": {},
   "outputs": [
    {
     "data": {
      "text/plain": [
       "True"
      ]
     },
     "execution_count": 83,
     "metadata": {},
     "output_type": "execute_result"
    }
   ],
   "source": [
    "# Ex 10\n",
    "# Check if all items are the same\n",
    "t = (45,45,45,45)\n",
    "all_same = all(i==t[0] for i in t)\n",
    "all_same\n"
   ]
  },
  {
   "cell_type": "markdown",
   "id": "6ae58b68",
   "metadata": {},
   "source": [
    "### NumPy, PG 104"
   ]
  },
  {
   "cell_type": "code",
   "execution_count": 89,
   "id": "dc66d72c",
   "metadata": {},
   "outputs": [
    {
     "data": {
      "text/plain": [
       "(9, array([7, 8, 9]), array([3, 6, 9]))"
      ]
     },
     "execution_count": 89,
     "metadata": {},
     "output_type": "execute_result"
    }
   ],
   "source": [
    "import numpy as np\n",
    "# Ex 1\n",
    "arr_tst = np.array([[1,2,3],[4,5,6],[7,8,9]])\n",
    "np.max(arr_tst), np.max(arr_tst,axis=0),np.max(arr_tst,axis=1)"
   ]
  },
  {
   "cell_type": "code",
   "execution_count": 97,
   "id": "a3f2f626",
   "metadata": {},
   "outputs": [
    {
     "data": {
      "text/plain": [
       "(array([[    0,     1,     0,   629],\n",
       "        [ 1540,     0,   768, 32766]]),\n",
       " 8,\n",
       " (2, 4),\n",
       " 2)"
      ]
     },
     "execution_count": 97,
     "metadata": {},
     "output_type": "execute_result"
    }
   ],
   "source": [
    "# Ex 2\n",
    "# Integer array\n",
    "emp_arr = np.empty((2,4),int)\n",
    "emp_arr, emp_arr.size, emp_arr.shape, emp_arr.ndim"
   ]
  },
  {
   "cell_type": "code",
   "execution_count": 105,
   "id": "8cf535f8",
   "metadata": {},
   "outputs": [
    {
     "data": {
      "text/plain": [
       "array([[ 10,  20],\n",
       "       [ 30,  40],\n",
       "       [ 50,  60],\n",
       "       [ 70,  80],\n",
       "       [ 90, 100]])"
      ]
     },
     "execution_count": 105,
     "metadata": {},
     "output_type": "execute_result"
    }
   ],
   "source": [
    "# Ex 3\n",
    "np_arr = np.arange(10,102,10)\n",
    "np_arr.reshape(5,2,order=\"C\")"
   ]
  },
  {
   "cell_type": "code",
   "execution_count": 107,
   "id": "e29ef051",
   "metadata": {},
   "outputs": [
    {
     "data": {
      "text/plain": [
       "array([[ 10,  60],\n",
       "       [ 20,  70],\n",
       "       [ 30,  80],\n",
       "       [ 40,  90],\n",
       "       [ 50, 100]])"
      ]
     },
     "execution_count": 107,
     "metadata": {},
     "output_type": "execute_result"
    }
   ],
   "source": [
    "np_arr.reshape(2,5).transpose()"
   ]
  },
  {
   "cell_type": "code",
   "execution_count": 141,
   "id": "bc3e2cda",
   "metadata": {},
   "outputs": [
    {
     "data": {
      "text/plain": [
       "(array([[73, 96, 49, 53]]),\n",
       " array([[73,  8, 52, 30]]),\n",
       " array([[79, 14, 92, 58]]),\n",
       " array([[74, 22,  3, 91]]))"
      ]
     },
     "execution_count": 141,
     "metadata": {},
     "output_type": "execute_result"
    }
   ],
   "source": [
    "# Ex 7\n",
    "# Split ndarray\n",
    "\n",
    "np_tst = np.random.randint(0,100,(4,4))\n",
    "x,y,z,t = np.split(np_tst,4)\n",
    "x,y,z,t"
   ]
  },
  {
   "cell_type": "code",
   "execution_count": 145,
   "id": "5300508e",
   "metadata": {},
   "outputs": [
    {
     "data": {
      "text/plain": [
       "(array([[37, 91, 70,  7],\n",
       "        [12, 50, 56, 65],\n",
       "        [74, 19, 71, 31],\n",
       "        [91, 83, 55, 59]]),\n",
       " array([[70, 91,  7, 37],\n",
       "        [56, 50, 65, 12],\n",
       "        [71, 19, 31, 74],\n",
       "        [55, 83, 59, 91]]))"
      ]
     },
     "execution_count": 145,
     "metadata": {},
     "output_type": "execute_result"
    }
   ],
   "source": [
    "# Ex 8\n",
    "# Sort array by row 2\n",
    "np.random.seed(40)\n",
    "np_tst = np.random.randint(0,100,(4,4))\n",
    "sorted_array = np_tst[:,np_tst[1,:].argsort()]\n",
    "sorted_array, np_tst\n"
   ]
  },
  {
   "cell_type": "markdown",
   "id": "c9d183cf",
   "metadata": {},
   "source": [
    "### Random Data Generation, PG 132"
   ]
  },
  {
   "cell_type": "code",
   "execution_count": 150,
   "id": "a7c82067",
   "metadata": {},
   "outputs": [
    {
     "name": "stdout",
     "output_type": "stream",
     "text": [
      "765\n",
      "915\n",
      "645\n"
     ]
    }
   ],
   "source": [
    "# Ex 1\n",
    "# Generate from 100 to 999, which is divisible by 5\n",
    "import random\n",
    "for i in range(3):\n",
    "    print(random.randrange(100,999,5))"
   ]
  },
  {
   "cell_type": "code",
   "execution_count": 154,
   "id": "7eb11a0c",
   "metadata": {},
   "outputs": [
    {
     "data": {
      "text/plain": [
       "[46293, 72083]"
      ]
     },
     "execution_count": 154,
     "metadata": {},
     "output_type": "execute_result"
    }
   ],
   "source": [
    "# Ex 2\n",
    "# Generate 100 ticket and choose 2 randomly\n",
    "lottery_ticket = []\n",
    "\n",
    "for i in range(100):\n",
    "    lottery_ticket.append(random.randrange(10000,99999))\n",
    "winners = random.sample(lottery_ticket,2)\n",
    "winners\n",
    "\n"
   ]
  },
  {
   "cell_type": "code",
   "execution_count": 173,
   "id": "23c89b0c",
   "metadata": {},
   "outputs": [
    {
     "name": "stdout",
     "output_type": "stream",
     "text": [
      "i i g o o o i i i r "
     ]
    }
   ],
   "source": [
    "# Ex 4\n",
    "# Pick random letter\n",
    "name = 'Giorgi'\n",
    "\n",
    "for i in range(10):\n",
    "    x = random.choice(name)\n",
    "    print(x,end=\" \")"
   ]
  },
  {
   "cell_type": "code",
   "execution_count": 182,
   "id": "02e59d64",
   "metadata": {},
   "outputs": [
    {
     "name": "stdout",
     "output_type": "stream",
     "text": [
      "SwvKC\n"
     ]
    }
   ],
   "source": [
    "# Ex 5\n",
    "\n",
    "import string\n",
    "letters = string.ascii_letters\n",
    "fin_wr = ''\n",
    "for i in range(5):\n",
    "    x = random.choice(letters)\n",
    "    fin_wr+=x\n",
    "print(fin_wr)"
   ]
  },
  {
   "cell_type": "code",
   "execution_count": 200,
   "id": "233903b6",
   "metadata": {},
   "outputs": [
    {
     "data": {
      "text/plain": [
       "'.4Es=CRCMz'"
      ]
     },
     "execution_count": 200,
     "metadata": {},
     "output_type": "execute_result"
    }
   ],
   "source": [
    "# Ex 6\n",
    "# Generate random passwor\n",
    "# 10 chars long, 2 uppercase, 1 digit, 1 special char\n",
    "\n",
    "random_source = string.ascii_letters + string.digits + string.punctuation  \n",
    "# 6 random first\n",
    "password = random.sample(random_source,6)\n",
    "# two uppercase\n",
    "password += random.sample(string.ascii_uppercase,2)\n",
    "# one digit\n",
    "password += random.sample(string.digits,1)\n",
    "# one special\n",
    "password += random.sample(string.punctuation,1)\n",
    "\n",
    "password_list = list(password)\n",
    "shuffle(password_list)\n",
    "''.join(password_list)\n"
   ]
  },
  {
   "cell_type": "code",
   "execution_count": 215,
   "id": "f536b668",
   "metadata": {},
   "outputs": [
    {
     "data": {
      "text/plain": [
       "59.34915116933875"
      ]
     },
     "execution_count": 215,
     "metadata": {},
     "output_type": "execute_result"
    }
   ],
   "source": [
    "# Ex 7\n",
    "nrd_rn = random.uniform(9.5,99.5)\n",
    "nrd_rn"
   ]
  },
  {
   "cell_type": "code",
   "execution_count": null,
   "id": "8caaf403",
   "metadata": {},
   "outputs": [],
   "source": []
  },
  {
   "cell_type": "code",
   "execution_count": null,
   "id": "3c8f0879",
   "metadata": {},
   "outputs": [],
   "source": []
  }
 ],
 "metadata": {
  "kernelspec": {
   "display_name": "Python 3 (ipykernel)",
   "language": "python",
   "name": "python3"
  },
  "language_info": {
   "codemirror_mode": {
    "name": "ipython",
    "version": 3
   },
   "file_extension": ".py",
   "mimetype": "text/x-python",
   "name": "python",
   "nbconvert_exporter": "python",
   "pygments_lexer": "ipython3",
   "version": "3.11.5"
  }
 },
 "nbformat": 4,
 "nbformat_minor": 5
}
