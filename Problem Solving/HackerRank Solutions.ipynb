{
 "cells": [
  {
   "cell_type": "code",
   "execution_count": 2,
   "id": "377be552",
   "metadata": {},
   "outputs": [
    {
     "name": "stdout",
     "output_type": "stream",
     "text": [
      "Berry\n",
      "Harry\n"
     ]
    }
   ],
   "source": [
    "# Nested Lists\n",
    "\n",
    "records = [['Harry', 37.21], ['Berry', 37.21], ['Tina', 37.2], ['Akriti', 41], ['Harsh', 39]]\n",
    "nw_lst = list(set([records[i][-1] for i in range(len(records))]))\n",
    "sc_low = sorted(nw_lst)[1]\n",
    "nms_lst = []\n",
    "\n",
    "for i in records:\n",
    "    if i[-1]==sc_low:\n",
    "        nms_lst.append(i[0])\n",
    "\n",
    "for k in sorted(nms_lst):\n",
    "    print(k)"
   ]
  },
  {
   "cell_type": "code",
   "execution_count": 3,
   "id": "36d1b3ca",
   "metadata": {},
   "outputs": [
    {
     "name": "stdout",
     "output_type": "stream",
     "text": [
      "56.00\n"
     ]
    }
   ],
   "source": [
    "# Basic Data types\n",
    "\n",
    "student_marks = {'Krishna':[67,68,69],'Arjun':[70,98,63],'Malika':[52,56,60]}\n",
    "query_name = 'Malika'\n",
    "\n",
    "for i in student_marks:\n",
    "    if i==query_name:\n",
    "        k = sum(student_marks[i])/len(student_marks[i])\n",
    "print(f'{k:.2f}') "
   ]
  },
  {
   "cell_type": "code",
   "execution_count": 4,
   "id": "9c179976",
   "metadata": {},
   "outputs": [
    {
     "name": "stdout",
     "output_type": "stream",
     "text": [
      "56.00\n"
     ]
    }
   ],
   "source": [
    "# Formatting numbers\n",
    "number = 56.0\n",
    "formatted_number = f\"{number:.2f}\"\n",
    "print(formatted_number)"
   ]
  },
  {
   "cell_type": "code",
   "execution_count": 5,
   "id": "8fd60f8e",
   "metadata": {},
   "outputs": [
    {
     "data": {
      "text/plain": [
       "'gIOrGI'"
      ]
     },
     "execution_count": 5,
     "metadata": {},
     "output_type": "execute_result"
    }
   ],
   "source": [
    "# Swap Case\n",
    "s = 'GioRgi'\n",
    "emp_str = ''\n",
    "for i in s:\n",
    "    if i==i.lower():\n",
    "        emp_str+=i.upper()\n",
    "    else:\n",
    "        emp_str+=i.lower()\n",
    "emp_str"
   ]
  },
  {
   "cell_type": "code",
   "execution_count": 6,
   "id": "61bb0403",
   "metadata": {},
   "outputs": [
    {
     "name": "stdout",
     "output_type": "stream",
     "text": [
      "this-is-a-string\n"
     ]
    }
   ],
   "source": [
    "# String split and join\n",
    "\n",
    "line = 'this is a string'\n",
    "\n",
    "spl = '-'.join(line.split(' '))\n",
    "print(spl)\n"
   ]
  },
  {
   "cell_type": "code",
   "execution_count": 7,
   "id": "fcd9076a",
   "metadata": {},
   "outputs": [
    {
     "data": {
      "text/plain": [
       "'Hello Ross Taylor! You just delved into python'"
      ]
     },
     "execution_count": 7,
     "metadata": {},
     "output_type": "execute_result"
    }
   ],
   "source": [
    "# What's Your name\n",
    "\n",
    "first  = 'Ross'\n",
    "last = 'Taylor'\n",
    "fn = 'Hello '+first+' ' +last+'! You just delved into python'\n",
    "fn"
   ]
  },
  {
   "cell_type": "code",
   "execution_count": 8,
   "id": "2585f39b",
   "metadata": {},
   "outputs": [
    {
     "data": {
      "text/plain": [
       "'abrackdabra'"
      ]
     },
     "execution_count": 8,
     "metadata": {},
     "output_type": "execute_result"
    }
   ],
   "source": [
    "# Mutations \n",
    "\n",
    "string = \"abracadabra\"\n",
    "position = 5\n",
    "character = 'k'\n",
    "\n",
    "nw_str = string[:position]+character+string[position+1:]\n",
    "nw_str\n"
   ]
  },
  {
   "cell_type": "code",
   "execution_count": 9,
   "id": "efbbd555",
   "metadata": {},
   "outputs": [
    {
     "name": "stdout",
     "output_type": "stream",
     "text": [
      "2\n",
      "1\n",
      "2\n"
     ]
    }
   ],
   "source": [
    "# Find string\n",
    "\n",
    "string = 'ABCDCDC'\n",
    "substring = 'CDC'\n",
    "\n",
    "counting = 0\n",
    "starting = 0\n",
    "while True:\n",
    "    index = string.find(substring, starting)\n",
    "    if index >= 0:\n",
    "        counting += 1\n",
    "        starting = index + 1  # Update starting index to search from the next position\n",
    "    else:\n",
    "        break\n",
    "\n",
    "print(counting)\n",
    "print(string.count(substring)) \n",
    "print(string.count('CD'))"
   ]
  },
  {
   "cell_type": "code",
   "execution_count": 10,
   "id": "c4bff326",
   "metadata": {},
   "outputs": [
    {
     "data": {
      "text/plain": [
       "'1 W 2 R 3g'"
      ]
     },
     "execution_count": 10,
     "metadata": {},
     "output_type": "execute_result"
    }
   ],
   "source": [
    "# Capitalize\n",
    "s = '1 w 2 r 3g'\n",
    "x = lambda x: x.capitalize()\n",
    "spl = s.split(' ')\n",
    "' '.join(map(x,spl))"
   ]
  },
  {
   "cell_type": "code",
   "execution_count": 11,
   "id": "4c3efc26",
   "metadata": {},
   "outputs": [
    {
     "name": "stdout",
     "output_type": "stream",
     "text": [
      "ABCDEF\n",
      "GHIJKL\n",
      "IMNOQR\n",
      "STUVWX\n",
      "YZ\n"
     ]
    }
   ],
   "source": [
    "# Text Wrap\n",
    "# max_width \n",
    "\n",
    "string = 'ABCDEFGHIJKLIMNOQRSTUVWXYZ'\n",
    "max_width = 6\n",
    "\n",
    "for i in range(0,len(string),max_width):\n",
    "    wr = string[i:i+max_width]\n",
    "    print(wr)"
   ]
  },
  {
   "cell_type": "code",
   "execution_count": 13,
   "id": "939be635",
   "metadata": {},
   "outputs": [
    {
     "name": "stdout",
     "output_type": "stream",
     "text": [
      "True True True True True\n"
     ]
    }
   ],
   "source": [
    "# String Validators\n",
    "s = 'aA2'\n",
    "\n",
    "lst_t = [i for i in s]\n",
    "\n",
    "x = list(map(str.isalnum,lst_t))\n",
    "y = list(map(str.isalpha,lst_t))\n",
    "z = list(map(str.isdigit,lst_t))\n",
    "t = list(map(str.islower,lst_t))\n",
    "j = list(map(str.isupper,lst_t))\n",
    "\n",
    "print(any(x),any(y),any(z),any(t), any(j))"
   ]
  },
  {
   "cell_type": "code",
   "execution_count": 15,
   "id": "79e40798",
   "metadata": {},
   "outputs": [
    {
     "name": "stdout",
     "output_type": "stream",
     "text": [
      "A\n",
      "C\n",
      "H\n",
      "K\n"
     ]
    }
   ],
   "source": [
    "# itertools.permutations()\n",
    "\n",
    "from itertools import permutations\n",
    "\n",
    "k = list(permutations(sorted('HACK'),1))\n",
    "for i in k:\n",
    "    print(''.join(i))"
   ]
  },
  {
   "cell_type": "code",
   "execution_count": 17,
   "id": "a75ffa58",
   "metadata": {},
   "outputs": [
    {
     "name": "stdout",
     "output_type": "stream",
     "text": [
      "Weird\n"
     ]
    }
   ],
   "source": [
    "# Python if-else\n",
    "\n",
    "n = 23\n",
    "\n",
    "if n%2==1:\n",
    "    print('Weird')\n",
    "elif n%2==0 and n in range(2,6):\n",
    "    print('Not Weird')\n",
    "elif n%2==0 and i in range(6,21):\n",
    "    print('Weird')\n",
    "elif n%2==0 and n>20:\n",
    "    print('Not Weird')"
   ]
  },
  {
   "cell_type": "code",
   "execution_count": 18,
   "id": "ff7e195a",
   "metadata": {
    "collapsed": true
   },
   "outputs": [
    {
     "name": "stdout",
     "output_type": "stream",
     "text": [
      " 1  1  1    1\n",
      " 2  2  2   10\n",
      " 3  3  3   11\n",
      " 4  4  4  100\n",
      " 5  5  5  101\n",
      " 6  6  6  110\n",
      " 7  7  7  111\n",
      " 8 10  8 1000\n"
     ]
    }
   ],
   "source": [
    "# String formatting\n",
    "# str(i), oct(i)[2:], hex(i)[2:].upper(), bin(i)\n",
    "\n",
    "\n",
    "number = 8\n",
    "ln = len((bin(number+1)[2:]))\n",
    "\n",
    "\n",
    "for i in range(1,number+1):\n",
    "    string = str(i).rjust(3-len(str(i)))\n",
    "    octal = oct(i)[2:].rjust(3-len(oct(i)[2:]))\n",
    "    hexe = hex(i)[2:].upper().rjust(3-len(hex(i)[2:]))\n",
    "    binary = bin(i)[2:].rjust(ln)\n",
    "    print(string, octal, hexe, binary)\n",
    "    "
   ]
  },
  {
   "cell_type": "code",
   "execution_count": 19,
   "id": "11dacd02",
   "metadata": {},
   "outputs": [
    {
     "name": "stdout",
     "output_type": "stream",
     "text": [
      "a 1\n",
      "b 1\n",
      "c 1\n"
     ]
    }
   ],
   "source": [
    "# Company logo\n",
    "s = 'qwertyuiopasdfghjklzxcvbnm'\n",
    "un_let = []\n",
    "\n",
    "for i in s:\n",
    "    if i not in un_let:\n",
    "        un_let.append(i)\n",
    "un_let.sort()\n",
    "trd = sorted([s.count(i) for i in un_let])[-3]\n",
    "ltrs= ''\n",
    "\n",
    "for k in un_let:\n",
    "    if s.count(k)>=trd:\n",
    "        ltrs+=k\n",
    "    if len(ltrs)==3:\n",
    "        break\n",
    "    \n",
    "ltrs = ''.join(sorted(ltrs,key=lambda x:200 - s.count(x)))      \n",
    "    \n",
    "        \n",
    "for t in ltrs:\n",
    "    print(t,s.count(t))\n",
    "    "
   ]
  },
  {
   "cell_type": "code",
   "execution_count": 20,
   "id": "aabd010f",
   "metadata": {},
   "outputs": [
    {
     "name": "stdout",
     "output_type": "stream",
     "text": [
      "a 3\n",
      "d 3\n",
      "Counter({'a': 3, 'd': 3})\n"
     ]
    }
   ],
   "source": [
    "from collections import Counter\n",
    "\n",
    "s = 'dadada'\n",
    "c=Counter(sorted(s))\n",
    "for key,value in c.most_common(3):\n",
    "    print(key,value)\n",
    "print(c)"
   ]
  },
  {
   "cell_type": "code",
   "execution_count": 21,
   "id": "c911705f",
   "metadata": {},
   "outputs": [
    {
     "data": {
      "text/plain": [
       "'CoDING IS Awesome'"
      ]
     },
     "execution_count": 21,
     "metadata": {},
     "output_type": "execute_result"
    }
   ],
   "source": [
    "# Python basic 1\n",
    "# Reverse and Swap Case\n",
    "\n",
    "sentence = 'aWESOME is cOding'\n",
    "spl = ' '.join(reversed(sentence.split()))\n",
    "str_fn = ''\n",
    "\n",
    "for i in spl:\n",
    "    if i.isupper():\n",
    "        str_fn+=i.lower()\n",
    "    else:\n",
    "        str_fn+=i.upper()\n",
    "\n",
    "str_fn"
   ]
  },
  {
   "cell_type": "code",
   "execution_count": 2,
   "id": "214375f4",
   "metadata": {},
   "outputs": [
    {
     "name": "stdout",
     "output_type": "stream",
     "text": [
      "a BLUe MOOn\n"
     ]
    }
   ],
   "source": [
    "# Python basic 2\n",
    "# String transformation\n",
    "\n",
    "sentence = 'a Blue MOON'\n",
    "spl = sentence.split()\n",
    "nw_sc = []\n",
    "for i in spl:\n",
    "    wrd = ''\n",
    "    wrd +=i[0]\n",
    "    for k in range(0,len(i)-1):\n",
    "        if ord(i[k].lower())>ord(i[k+1].lower()):\n",
    "            wrd+=i[k+1].lower()\n",
    "        elif ord(i[k].lower())<ord(i[k+1].lower()):\n",
    "            wrd+=i[k+1].upper()\n",
    "        else:\n",
    "            wrd+=i[k+1]\n",
    "    nw_sc.append(wrd)\n",
    "print(' '.join(nw_sc))"
   ]
  },
  {
   "cell_type": "code",
   "execution_count": 3,
   "id": "c56fa8c2",
   "metadata": {},
   "outputs": [
    {
     "data": {
      "text/plain": [
       "{23: 2, 24: 1, 25: 2, 15: 2}"
      ]
     },
     "execution_count": 3,
     "metadata": {},
     "output_type": "execute_result"
    }
   ],
   "source": [
    "# Collections.counter\n",
    "input_n = \"23 24 25 15 15 25 23\"\n",
    "shoe_sizes = list(map(int,input_n.split(' ')))\n",
    "\n",
    "\n",
    "\n",
    "nw_lst = []\n",
    "\n",
    "for i in shoe_sizes:\n",
    "        if i not in nw_lst:\n",
    "            nw_lst.append(i)\n",
    "\n",
    "            \n",
    "# Dictionary Comprehension\n",
    "fin_dict = {i:shoe_sizes.count(i) for i in nw_lst}\n",
    "fin_dict\n",
    "\n",
    "\n"
   ]
  },
  {
   "cell_type": "code",
   "execution_count": 4,
   "id": "9917d04b",
   "metadata": {},
   "outputs": [
    {
     "data": {
      "text/plain": [
       "Counter({2: 2, 1: 1})"
      ]
     },
     "execution_count": 4,
     "metadata": {},
     "output_type": "execute_result"
    }
   ],
   "source": [
    "from collections import Counter\n",
    "\n",
    "lst = [1,2,2]\n",
    "nw = Counter(lst)\n",
    "nw\n"
   ]
  },
  {
   "cell_type": "code",
   "execution_count": null,
   "id": "ac4c01d7",
   "metadata": {},
   "outputs": [],
   "source": []
  },
  {
   "cell_type": "code",
   "execution_count": null,
   "id": "9670438a",
   "metadata": {},
   "outputs": [],
   "source": []
  },
  {
   "cell_type": "code",
   "execution_count": null,
   "id": "6480f8c4",
   "metadata": {},
   "outputs": [],
   "source": []
  }
 ],
 "metadata": {
  "kernelspec": {
   "display_name": "Python 3 (ipykernel)",
   "language": "python",
   "name": "python3"
  },
  "language_info": {
   "codemirror_mode": {
    "name": "ipython",
    "version": 3
   },
   "file_extension": ".py",
   "mimetype": "text/x-python",
   "name": "python",
   "nbconvert_exporter": "python",
   "pygments_lexer": "ipython3",
   "version": "3.11.5"
  }
 },
 "nbformat": 4,
 "nbformat_minor": 5
}
