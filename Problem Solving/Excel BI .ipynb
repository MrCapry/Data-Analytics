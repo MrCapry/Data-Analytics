{
 "cells": [
  {
   "cell_type": "code",
   "execution_count": 2,
   "id": "910d4455",
   "metadata": {},
   "outputs": [],
   "source": [
    "import numpy as np\n",
    "import pandas as pd\n",
    "import os"
   ]
  },
  {
   "cell_type": "code",
   "execution_count": 3,
   "id": "fe2709e6",
   "metadata": {},
   "outputs": [
    {
     "name": "stdout",
     "output_type": "stream",
     "text": [
      "7\n",
      "25\n",
      "16\n",
      "86\n",
      "313\n",
      "1235\n",
      "2457\n",
      "7210\n",
      "85662\n"
     ]
    }
   ],
   "source": [
    "#  Problem 373\n",
    "lst = [[1,12,1],\n",
    "       [20,67,2],\n",
    "       [99,185,7],\n",
    "       [200,500,3],\n",
    "       [699,1078,0],\n",
    "       [2567,4076,4],\n",
    "       [5670,9073,9],\n",
    "       [10001,20000,5],\n",
    "       [25000,100000,6]]\n",
    "\n",
    "for i in lst:\n",
    "    cntr = 0\n",
    "    for k in range(i[0],i[1]+1):\n",
    "        sq = k**2\n",
    "        cntr+=str(sq).count(str(i[2]))\n",
    "    print(cntr)"
   ]
  },
  {
   "cell_type": "code",
   "execution_count": 4,
   "id": "fde6ca72",
   "metadata": {},
   "outputs": [
    {
     "name": "stdout",
     "output_type": "stream",
     "text": [
      "['peep']\n",
      "['nun', 'non']\n",
      "['ciic']\n",
      "[]\n",
      "['rotator']\n",
      "['hanah']\n",
      "['redivider']\n",
      "['kayak', 'kyayk']\n",
      "['aibohphobia']\n"
     ]
    }
   ],
   "source": [
    "# Problem 374\n",
    "lst = ['peepa','noun','civic','moon','rotatzor','hannah','redeivider','kyayak','aibohphoqbia']\n",
    "\n",
    "for i in lst:\n",
    "    emp_lst = []\n",
    "    for k in range(len(i)):\n",
    "        wrd = i[:k]+i[k+1:]\n",
    "        if wrd==wrd[::-1] and wrd not in emp_lst:\n",
    "            emp_lst.append(wrd)\n",
    "    print(emp_lst)"
   ]
  },
  {
   "cell_type": "code",
   "execution_count": 5,
   "id": "0ba73346",
   "metadata": {
    "collapsed": true
   },
   "outputs": [
    {
     "name": "stdout",
     "output_type": "stream",
     "text": [
      "0\n",
      "1\n",
      "3\n",
      "8\n",
      "21\n",
      "55\n",
      "144\n",
      "377\n",
      "987\n",
      "2584\n",
      "6765\n",
      "17711\n",
      "46368\n",
      "121393\n",
      "317811\n",
      "832040\n",
      "2178309\n",
      "5702887\n",
      "14930352\n",
      "39088169\n"
     ]
    }
   ],
   "source": [
    "# Problem 376\n",
    "srt_lst = [0,1]\n",
    "\n",
    "for k in range(0,20):\n",
    "    for i in range(50):\n",
    "        new = srt_lst[-2] + srt_lst[-1]\n",
    "        srt_lst.append(new)\n",
    "    print(srt_lst[2*k])\n"
   ]
  },
  {
   "cell_type": "code",
   "execution_count": 6,
   "id": "28d93f24",
   "metadata": {
    "collapsed": true
   },
   "outputs": [
    {
     "name": "stdout",
     "output_type": "stream",
     "text": [
      "ahssjb vml\n",
      "qky ji kojwg\n",
      "kfepmqmbs txetj\n",
      "jflisefl fr bqsgt\n",
      "mcfiy ldciiekbes\n",
      "hlhky dq bs sch absh\n",
      "wa kaat rl qrpsraceqa\n",
      "sqqseh sq lkea\n"
     ]
    }
   ],
   "source": [
    "# Problem 377\n",
    "dicta = {'battle won':'happy',\n",
    "        'spy on prowl':'pleasant',\n",
    "        'microsoft excel':'great',\n",
    "        'linkedin is great':'goddess',\n",
    "        'daily challenges':'calmer',\n",
    "        'enemy is at the gate':'bright',\n",
    "        'we need to strategise':'soft',\n",
    "        'attack at once':'sweetest'}\n",
    "\n",
    "# creating a-z with list comprehension\n",
    "lst_alp = [chr(i) for i in range(ord('a'),ord('a')+26)]\n",
    "\n",
    "for i,v in dicta.items():\n",
    "    emp_lst = []\n",
    "    for q in v:\n",
    "        if q not in emp_lst:\n",
    "            emp_lst.append(q)\n",
    "    for k in lst_alp:\n",
    "        if k not in emp_lst:\n",
    "            emp_lst.append(k)\n",
    "    emp_str = ''\n",
    "    for l in i:\n",
    "        for p in range(26):\n",
    "            if l == lst_alp[p]:\n",
    "                emp_str+=emp_lst[p]\n",
    "        if l==' ':\n",
    "            emp_str+=' '\n",
    "    print(emp_str)\n",
    "\n"
   ]
  },
  {
   "cell_type": "code",
   "execution_count": 7,
   "id": "222f2ce4",
   "metadata": {
    "collapsed": true
   },
   "outputs": [
    {
     "name": "stdout",
     "output_type": "stream",
     "text": [
      "[1, 2, 3] [4, -5, 1]\n",
      "[2, -2, 7] [-3, 4]\n",
      "[8] [-3, 1, -1, 3, -4, -5]\n",
      "[8, 4, 5] [-1, 9]\n",
      "[9, -4, 2, 1, 7] [4, 1]\n",
      "[9] [2, 5, -4, -3, 1, -4, 6]\n",
      "[9, 5, 9] [0, -1, 8, -4, 6, 1]\n",
      "[1, -5, 1, 2, -5, 8, 7, 6] [3, 7]\n",
      "[-1, 3, 9] [-2, 3, -4, 7, -5, 4, -4, 3, -1]\n"
     ]
    }
   ],
   "source": [
    "# problem 378\n",
    "lst = [[1, 2, 3, 4, -5, 1],\n",
    "       [2, -2, 7, -3, 4],\n",
    "       [8, -3, 1, -1, 3, -4, -5],\n",
    "       [8, 4, 5, -1, 9],\n",
    "       [9, -4, 2, 1, 7, 4, 1],\n",
    "       [9, 2, 5, -4, -3, 1, -4, 6],\n",
    "       [9, 5, 9, 0, -1, 8, -4, 6, 1],\n",
    "       [1, -5, 1, 2, -5, 8, 7, 6, 3, 7],\n",
    "       [-1, 3, 9, -2, 3, -4, 7, -5, 4, -4, 3, -1]]\n",
    "\n",
    "for i in lst:\n",
    "    for k in range(len(i)):\n",
    "        if sum(i[:k+1])>sum(i[k+1:]):\n",
    "            print(i[:k+1],i[k+1:])\n",
    "            break\n"
   ]
  },
  {
   "cell_type": "code",
   "execution_count": 8,
   "id": "d076b860",
   "metadata": {},
   "outputs": [
    {
     "name": "stdout",
     "output_type": "stream",
     "text": [
      "[12, 24]\n",
      "[10]\n",
      "[14, 26]\n",
      "[18]\n",
      "[]\n",
      "[17, 29, 36]\n",
      "[]\n",
      "[6, 13]\n",
      "[4, 6, 23]\n"
     ]
    }
   ],
   "source": [
    "# Problem 379\n",
    "lst =[[12, 24, 47],\n",
    "      [47, 32, 10, 12],\n",
    "      [30, 27, 14, 26, 43],\n",
    "      [21, 39, 18, 42, 30, 30],\n",
    "      [40, 7, 25, 37, 29, 50, 5],\n",
    "      [39, 19, 17, 31, 50, 29, 36, 45],\n",
    "      [8, 8, 8, 8, 8, 8, 8, 8, 8],\n",
    "      [43, 38, 23, 15, 14, 12, 19, 6, 13, 30],\n",
    "      [21, 4, 24, 29, 26, 46, 6, 23, 47, 47, 42, 40]]\n",
    "\n",
    "for k in lst:\n",
    "    nw_ls = []\n",
    "    for i in range(len(k)-1):\n",
    "        if k[i]<min(k[i+1:]):\n",
    "            nw_ls.append(k[i])\n",
    "    print(nw_ls)"
   ]
  },
  {
   "cell_type": "code",
   "execution_count": 9,
   "id": "dfec87b2",
   "metadata": {
    "collapsed": true
   },
   "outputs": [
    {
     "name": "stdout",
     "output_type": "stream",
     "text": [
      "x x x x \n",
      "x x x x \n",
      "x x x x \n",
      "x x x x \n",
      "\n",
      "x x x x x \n",
      "x x   x x \n",
      "x   x   x \n",
      "x x   x x \n",
      "x x x x x \n",
      "\n",
      "x x x x x x x \n",
      "x x       x x \n",
      "x   x   x   x \n",
      "x     x     x \n",
      "x   x   x   x \n",
      "x x       x x \n",
      "x x x x x x x \n",
      "\n",
      "x x x x x x x x \n",
      "x x         x x \n",
      "x   x     x   x \n",
      "x     x x     x \n",
      "x     x x     x \n",
      "x   x     x   x \n",
      "x x         x x \n",
      "x x x x x x x x \n",
      "\n"
     ]
    }
   ],
   "source": [
    "# Problem 380\n",
    "lst_n = [4,5,7,8]\n",
    "\n",
    "for n in lst_n:\n",
    "    for i in range(1,n+1):\n",
    "        for k in range(1,n+1):\n",
    "            if i==1 or k==1 or k==i or k==n or i==n or i==(n-k+1):\n",
    "                print('x',end=' ')\n",
    "            else:\n",
    "                print(end='  ')\n",
    "        print()\n",
    "    print()"
   ]
  },
  {
   "cell_type": "code",
   "execution_count": 11,
   "id": "6d82328e",
   "metadata": {},
   "outputs": [
    {
     "name": "stdout",
     "output_type": "stream",
     "text": [
      "hannah\n",
      "civic\n",
      "rrrrrqprpqrrrrr\n",
      "lecxexcel\n"
     ]
    }
   ],
   "source": [
    "lst = [\"annah\",\"vic\",\"rpqrrrrr\",\"excel\"]\n",
    "\n",
    "for st in lst:\n",
    "    lng_pal = ''\n",
    "    cnting = 0\n",
    "    if st==st[::-1]:\n",
    "        print(st)\n",
    "        break\n",
    "    for i in range(1,len(st)+1):\n",
    "        chck = st[:i]\n",
    "        if chck==chck[::-1]:\n",
    "            lng_pal = chck\n",
    "            cnting = i\n",
    "#     lng_pal = st[cnting:][::-1]+st\n",
    "    lng_pal = st[:cnting-1:-1]+st\n",
    "    print(lng_pal)\n",
    "            "
   ]
  },
  {
   "cell_type": "code",
   "execution_count": 12,
   "id": "8c80f05b",
   "metadata": {},
   "outputs": [
    {
     "name": "stdout",
     "output_type": "stream",
     "text": [
      "hannah\n",
      "hannannah\n",
      "civic\n",
      "rrrrrqprpqrrrrr\n",
      "lecxexcel\n",
      "rrrrrqprpqrrrrr\n"
     ]
    }
   ],
   "source": [
    "lst = [\"annah\",\"vic\",\"rpqrrrrr\",\"excel\",\"rpqrrrrr\"]\n",
    "\n",
    "for st in lst:\n",
    "    if st == st[::-1]:\n",
    "        print(st)\n",
    "        continue\n",
    "    for i in range(len(st),0,-1):\n",
    "        wrd = st[:i-1:-1]+st\n",
    "        if wrd==wrd[::-1]:\n",
    "            print(wrd)\n",
    "            continue"
   ]
  },
  {
   "cell_type": "code",
   "execution_count": 13,
   "id": "7bdcd598",
   "metadata": {},
   "outputs": [
    {
     "name": "stdout",
     "output_type": "stream",
     "text": [
      "rpqrrrrr\n",
      "rrpqrrrrr\n",
      "rrrpqrrrrr\n",
      "rrrrpqrrrrr\n",
      "rrrrrpqrrrrr\n",
      "rrrrrrpqrrrrr\n",
      "rrrrrqrpqrrrrr\n",
      "rrrrrqprpqrrrrr\n"
     ]
    }
   ],
   "source": [
    "lst = [\"rpqrrrrr\"]\n",
    "\n",
    "for ts in lst:\n",
    "    if ts == ts[::-1]:\n",
    "        print(ts)\n",
    "    for k in range(len(ts),0,-1):\n",
    "        print(ts[:k-1:-1]+ts)"
   ]
  },
  {
   "cell_type": "code",
   "execution_count": null,
   "id": "b533059a",
   "metadata": {},
   "outputs": [],
   "source": [
    "def is_prime(nmb):\n",
    "    for i in range(2,nmb):\n",
    "        if nmb%i==0:\n",
    "            return False\n",
    "    return True"
   ]
  },
  {
   "cell_type": "code",
   "execution_count": null,
   "id": "665b7212",
   "metadata": {},
   "outputs": [],
   "source": [
    "emp_lst = []\n",
    "cntr = 3\n",
    "while len(emp_lst)<100:\n",
    "    if is_prime(cntr-1) and is_prime(cntr+1):\n",
    "        emp_lst.append([cntr-1,cntr,cntr+1])\n",
    "    cntr+=1\n",
    "# emp_lst"
   ]
  },
  {
   "cell_type": "code",
   "execution_count": 17,
   "id": "3fa7a328",
   "metadata": {},
   "outputs": [
    {
     "name": "stdout",
     "output_type": "stream",
     "text": [
      "B \n",
      "A G \n",
      "\n",
      "B \n",
      "A G \n",
      "S \n",
      "\n",
      "B \n",
      "A G \n",
      "G A G \n",
      "E S \n",
      "\n",
      "A \n",
      "Q U \n",
      "A P H \n",
      "O B I A \n",
      "\n",
      "N \n",
      "A N \n",
      "O F A \n",
      "B R I C \n",
      "A T I O N \n",
      "\n"
     ]
    }
   ],
   "source": [
    "# Ex 401\n",
    "lst = [\"BAG\",\"BAGS\",\"BAGGAGES\",\"AQUAPHOBIA\",\"NANOFABRICATION\"]\n",
    "\n",
    "for el in lst:\n",
    "    ln = len(el)\n",
    "    counter = 0\n",
    "    for i in range(1,ln+1):\n",
    "        for k in range(i):\n",
    "            if counter<=ln-1:\n",
    "                print(el[counter],end=' ')\n",
    "                counter+=1\n",
    "        print()\n",
    "        if counter>ln-1:\n",
    "            print()\n",
    "            break"
   ]
  },
  {
   "cell_type": "code",
   "execution_count": 18,
   "id": "40b39154",
   "metadata": {},
   "outputs": [
    {
     "name": "stdout",
     "output_type": "stream",
     "text": [
      "['pqy gnvvcd']\n"
     ]
    }
   ],
   "source": [
    "# Ex 407\n",
    "\n",
    "def reverse(itr):\n",
    "    return itr[::-1]\n",
    "\n",
    "txt = [\"battle won\"]\n",
    "s = 2\n",
    "emp = []\n",
    "for i in txt:\n",
    "    temp = []\n",
    "    rev_lst = i.split(' ')[::-1]\n",
    "    for j in rev_lst:\n",
    "        rev_str = j[::-1]\n",
    "        emp_str = ''\n",
    "        for l in rev_str:\n",
    "            cd = ord(l)-96\n",
    "            cr = chr((cd+s-1)%26 + 97)\n",
    "            emp_str+=cr\n",
    "        temp.append(emp_str)\n",
    "    emp.append(' '.join(temp))\n",
    "print(emp)"
   ]
  },
  {
   "cell_type": "code",
   "execution_count": null,
   "id": "f7290f84",
   "metadata": {},
   "outputs": [],
   "source": [
    "# # Ex 415 \n",
    "\n",
    "def is_triangular(num):\n",
    "    n = 1\n",
    "    while True:\n",
    "        triangular_number = n * (n + 1) // 2\n",
    "        if triangular_number == num:\n",
    "            return True\n",
    "        elif triangular_number > num:\n",
    "            return False\n",
    "        n += 1\n",
    "\n",
    "def is_cyclops(num):\n",
    "    t = str(num)\n",
    "    mdl = len(t) // 2 \n",
    "    \n",
    "    cyc_check = all([t[mdl] == \"0\", t.count('0') == 1])\n",
    "    \n",
    "    if len(t) % 2 == 0:\n",
    "        return False\n",
    "    elif cyc_check:\n",
    "        return True\n",
    "    else:\n",
    "        return False\n",
    "        \n",
    "# Output\n",
    "fin = []\n",
    "counter = 1\n",
    "N = 100\n",
    "\n",
    "while len(fin)<N:\n",
    "    if is_cyclops(counter) and is_triangular(counter):\n",
    "        fin.append(counter)\n",
    "    counter+=1\n",
    "\n",
    "# # fin\n"
   ]
  },
  {
   "cell_type": "code",
   "execution_count": null,
   "id": "dfc83fa6",
   "metadata": {},
   "outputs": [],
   "source": []
  },
  {
   "cell_type": "code",
   "execution_count": null,
   "id": "9883ab0d",
   "metadata": {},
   "outputs": [],
   "source": []
  }
 ],
 "metadata": {
  "kernelspec": {
   "display_name": "Python 3 (ipykernel)",
   "language": "python",
   "name": "python3"
  },
  "language_info": {
   "codemirror_mode": {
    "name": "ipython",
    "version": 3
   },
   "file_extension": ".py",
   "mimetype": "text/x-python",
   "name": "python",
   "nbconvert_exporter": "python",
   "pygments_lexer": "ipython3",
   "version": "3.11.5"
  }
 },
 "nbformat": 4,
 "nbformat_minor": 5
}
