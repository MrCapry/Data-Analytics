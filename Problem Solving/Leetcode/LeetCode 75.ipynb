{
 "cells": [
  {
   "cell_type": "markdown",
   "id": "f79b4702",
   "metadata": {},
   "source": [
    "### Array/String"
   ]
  },
  {
   "cell_type": "code",
   "execution_count": 3,
   "id": "3753f74b",
   "metadata": {},
   "outputs": [
    {
     "data": {
      "text/plain": [
       "'gkiaokrogi'"
      ]
     },
     "execution_count": 3,
     "metadata": {},
     "output_type": "execute_result"
    }
   ],
   "source": [
    "# 1768. Merge Strings Alternately\n",
    "word1 = 'giorgi'\n",
    "word2 = 'kako'\n",
    "\n",
    "mx_ln = max(len(word1),len(word2))\n",
    "fin_str = ''\n",
    "\n",
    "for i in range(mx_ln):\n",
    "    if i<=len(word1)-1:\n",
    "        fin_str+=word1[i]\n",
    "    if i<=len(word2)-1:\n",
    "        fin_str+=word2[i]\n",
    "\n",
    "fin_str"
   ]
  },
  {
   "cell_type": "code",
   "execution_count": 19,
   "id": "bb240777",
   "metadata": {},
   "outputs": [
    {
     "data": {
      "text/plain": [
       "''"
      ]
     },
     "execution_count": 19,
     "metadata": {},
     "output_type": "execute_result"
    }
   ],
   "source": [
    "# 1071 Greatest Common Divisor of strings\n",
    "\n",
    "str1 = \"LEET\"\n",
    "str2 = \"CODE\"\n",
    "mn_len = min(len(str1),len(str2))\n",
    "\n",
    "if len(str1)<=mn_len:\n",
    "    ite_w = str1\n",
    "else:\n",
    "    ite_w = str2\n",
    "\n",
    "fn_wr = ''\n",
    "for i in range(mn_len+1):\n",
    "    ch = ite_w[:i]\n",
    "    if len(str2.replace(ch,''))==0 and len(str1.replace(ch,''))==0 and len(ch)>len(fn_wr):\n",
    "        fn_wr = ch\n",
    "fn_wr"
   ]
  },
  {
   "cell_type": "code",
   "execution_count": 4,
   "id": "f624862c",
   "metadata": {},
   "outputs": [
    {
     "data": {
      "text/plain": [
       "[True, True, True, False, True]"
      ]
     },
     "execution_count": 4,
     "metadata": {},
     "output_type": "execute_result"
    }
   ],
   "source": [
    "# 1431. Kids With the Greatest Number of Candies\n",
    "\n",
    "candies = [2,3,5,1,3]\n",
    "extraCandies = 3\n",
    "\n",
    "emp_ls = []\n",
    "for i in candies:\n",
    "    adding = i+extraCandies\n",
    "    if adding>=max(candies):\n",
    "        emp_ls.append(True)\n",
    "    else:\n",
    "        emp_ls.append(False)\n",
    "emp_ls"
   ]
  },
  {
   "cell_type": "code",
   "execution_count": 34,
   "id": "87fcba47",
   "metadata": {},
   "outputs": [
    {
     "data": {
      "text/plain": [
       "'leotcede'"
      ]
     },
     "execution_count": 34,
     "metadata": {},
     "output_type": "execute_result"
    }
   ],
   "source": [
    "# 345. Reverse Vowels of a String\n",
    "\n",
    "\n",
    "s = \"leetcode\"\n",
    "vow = ('a','e','i','o','u',\"A\",\"E\",\"I\",\"O\",\"U\")\n",
    "rep = list(reversed([i for i,v in enumerate(s) if v in vow]))\n",
    "\n",
    "nw_str = ''\n",
    "cnt = 0\n",
    "for i,v in enumerate(s):\n",
    "    if i in rep:\n",
    "        nw_str+=s[rep[cnt]]\n",
    "        cnt+=1\n",
    "    else:\n",
    "        nw_str+=v\n",
    "nw_str"
   ]
  },
  {
   "cell_type": "code",
   "execution_count": 40,
   "id": "40ac1713",
   "metadata": {},
   "outputs": [
    {
     "name": "stdout",
     "output_type": "stream",
     "text": [
      "leotcede\n"
     ]
    }
   ],
   "source": [
    "# Another trying\n",
    "\n",
    "\n",
    "s = \"leetcode\"\n",
    "vow = ('a','e','i','o','u',\"A\",\"E\",\"I\",\"O\",\"U\")\n",
    "rev = list(reversed([i for i in s if i in vow]))\n",
    "cnt = 0\n",
    "wr = ''\n",
    "for i in s:\n",
    "    if i in rev:\n",
    "        wr+=rev[cnt]\n",
    "        cnt+=1\n",
    "    else:\n",
    "        wr+=i\n",
    "print(wr)"
   ]
  },
  {
   "cell_type": "code",
   "execution_count": 45,
   "id": "2eec13e1",
   "metadata": {},
   "outputs": [
    {
     "data": {
      "text/plain": [
       "'world hello'"
      ]
     },
     "execution_count": 45,
     "metadata": {},
     "output_type": "execute_result"
    }
   ],
   "source": [
    "# 151. Reverse Word in String\n",
    "\n",
    "s = \"  hello world  \"\n",
    "nw = s.strip()\n",
    "fn = ' '.join(reversed(nw.split()))\n",
    "fn"
   ]
  },
  {
   "cell_type": "code",
   "execution_count": 59,
   "id": "64744e70",
   "metadata": {},
   "outputs": [
    {
     "name": "stdout",
     "output_type": "stream",
     "text": [
      "[24, 12, 8, 6]\n"
     ]
    }
   ],
   "source": [
    "# 238. Product of Array Except self\n",
    "\n",
    "nums = [1,2,3,4]\n",
    "fn = []\n",
    "for i in range(len(nums)):\n",
    "    k = 1\n",
    "    t = nums.copy() \n",
    "    t.pop(i)\n",
    "    for e in t:\n",
    "        k*=e\n",
    "    fn.append(k)\n",
    "print(fn)\n"
   ]
  },
  {
   "cell_type": "code",
   "execution_count": 64,
   "id": "9c61f7ed",
   "metadata": {},
   "outputs": [
    {
     "name": "stdout",
     "output_type": "stream",
     "text": [
      "True 2 5 6\n",
      "True 2 4 6\n",
      "True 1 5 6\n",
      "True 1 4 6\n",
      "True 0 4 6\n"
     ]
    }
   ],
   "source": [
    "# 334. Increasing Triplet Subsequence\n",
    "# time limit exceeded\n",
    "\n",
    "nums = [2,1,5,0,4,6]\n",
    "\n",
    "ln = len(nums)\n",
    "# all possible combinations\n",
    "for i in range(ln):\n",
    "    for k in range(i+1,ln):\n",
    "        for t in range(k+1,ln):\n",
    "            if nums[i]<nums[k]<nums[t]:\n",
    "                print(True,nums[i],nums[k],nums[t])\n",
    "       "
   ]
  },
  {
   "cell_type": "markdown",
   "id": "78449eac",
   "metadata": {},
   "source": [
    "### Two Pointers"
   ]
  },
  {
   "cell_type": "code",
   "execution_count": 13,
   "id": "af2fc47f",
   "metadata": {},
   "outputs": [
    {
     "name": "stdout",
     "output_type": "stream",
     "text": [
      "[1, 3, 12, 0, 0]\n"
     ]
    }
   ],
   "source": [
    "# 283. Move Zeroes\n",
    "\n",
    "nums = [0,1,0,3,12]\n",
    "\n",
    "for i in nums:\n",
    "    if i==0:\n",
    "        nums.remove(i)\n",
    "        nums.append(0)\n",
    "print(nums)"
   ]
  },
  {
   "cell_type": "code",
   "execution_count": 17,
   "id": "b6c417d4",
   "metadata": {},
   "outputs": [
    {
     "name": "stdout",
     "output_type": "stream",
     "text": [
      "True\n"
     ]
    }
   ],
   "source": [
    "# 392. Is Subsequence\n",
    "\n",
    "s = \"abc\"\n",
    "t = \"ahbgdc\"\n",
    "cnt = 0\n",
    "for i in s:\n",
    "    if s.count(i)<=t.count(i):\n",
    "        cnt+=1\n",
    "print(len(s)==cnt)"
   ]
  },
  {
   "cell_type": "code",
   "execution_count": 20,
   "id": "19eaeb09",
   "metadata": {},
   "outputs": [
    {
     "name": "stdout",
     "output_type": "stream",
     "text": [
      "abc\n"
     ]
    }
   ],
   "source": [
    "\n",
    "s = \"acb\"\n",
    "t = \"ahbgdc\"\n",
    "# removing other cars\n",
    "cnt = 0\n",
    "for i in t:\n",
    "    if i not in s:\n",
    "        t = t.replace(i,'',1)\n",
    "print(t)"
   ]
  },
  {
   "cell_type": "code",
   "execution_count": 23,
   "id": "2339fa7b",
   "metadata": {},
   "outputs": [
    {
     "name": "stdout",
     "output_type": "stream",
     "text": [
      "49\n"
     ]
    }
   ],
   "source": [
    "# 11. Container With Most Water\n",
    "\n",
    "\n",
    "height = [1,8,6,2,5,4,8,3,7]\n",
    "wtr = 0\n",
    "\n",
    "for i in range(len(height)):\n",
    "    for k in range(i+1,len(height)):\n",
    "            wd = k - i\n",
    "            hg = min(height[i],height[k])\n",
    "            wtr = max(wtr,wd*hg)\n",
    "print(wtr)"
   ]
  },
  {
   "cell_type": "code",
   "execution_count": null,
   "id": "8d48a682",
   "metadata": {},
   "outputs": [],
   "source": [
    "# 1679. Max Number of K-Sum Pairs\n",
    "# Pop from empty list\n",
    "\n",
    "nums = [3,1,3,4,3,2]\n",
    "t = 6\n",
    "cnting = 0\n",
    "whl_cn = 0 \n",
    "ind = int(len(nums)/2)\n",
    "while whl_cn<=ind:\n",
    "    for i in range(len(nums)):\n",
    "        for k in range(i,len(nums)):\n",
    "            if (nums[i]+nums[k])==t:\n",
    "                nums.pop(i)\n",
    "                nums.pop(k)\n",
    "                cnting+=1\n",
    "                break\n",
    "        break\n",
    "    ind+=1\n",
    "print(cnting)"
   ]
  },
  {
   "cell_type": "code",
   "execution_count": null,
   "id": "60a3493f",
   "metadata": {},
   "outputs": [],
   "source": []
  },
  {
   "cell_type": "code",
   "execution_count": null,
   "id": "d952c769",
   "metadata": {},
   "outputs": [],
   "source": []
  },
  {
   "cell_type": "code",
   "execution_count": null,
   "id": "e56f2258",
   "metadata": {},
   "outputs": [],
   "source": []
  }
 ],
 "metadata": {
  "kernelspec": {
   "display_name": "Python 3 (ipykernel)",
   "language": "python",
   "name": "python3"
  },
  "language_info": {
   "codemirror_mode": {
    "name": "ipython",
    "version": 3
   },
   "file_extension": ".py",
   "mimetype": "text/x-python",
   "name": "python",
   "nbconvert_exporter": "python",
   "pygments_lexer": "ipython3",
   "version": "3.11.5"
  }
 },
 "nbformat": 4,
 "nbformat_minor": 5
}
