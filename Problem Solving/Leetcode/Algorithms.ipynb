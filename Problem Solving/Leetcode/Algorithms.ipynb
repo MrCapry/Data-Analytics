{
 "cells": [
  {
   "cell_type": "code",
   "execution_count": 28,
   "metadata": {},
   "outputs": [
    {
     "data": {
      "text/plain": [
       "True"
      ]
     },
     "execution_count": 28,
     "metadata": {},
     "output_type": "execute_result"
    }
   ],
   "source": [
    "#9 - Palindrom Number\n",
    "x = 121\n",
    "\n",
    "def isPalindrome(x):\n",
    "    return str(x) == str(x)[::-1]\n",
    "\n",
    "isPalindrome(x)"
   ]
  },
  {
   "cell_type": "code",
   "execution_count": 2,
   "metadata": {},
   "outputs": [
    {
     "data": {
      "text/plain": [
       "[1, 1, 2, 3, 4, 4]"
      ]
     },
     "execution_count": 2,
     "metadata": {},
     "output_type": "execute_result"
    }
   ],
   "source": [
    "#21 - Merge Two Sorted Lists\n",
    "list1 = [1,2,4]\n",
    "list2 = [1,3,4]\n",
    "\n",
    "def mergeTwoLists(list1,list2):\n",
    "    list1.extend(list2)\n",
    "    list1.sort()\n",
    "    return list1\n",
    "\n",
    "mergeTwoLists(list1,list2)\n"
   ]
  },
  {
   "cell_type": "code",
   "execution_count": 3,
   "metadata": {},
   "outputs": [
    {
     "data": {
      "text/plain": [
       "[2, 2, '_', '_']"
      ]
     },
     "execution_count": 3,
     "metadata": {},
     "output_type": "execute_result"
    }
   ],
   "source": [
    "#27 - Remove Element\n",
    "\n",
    "nums = [3,2,2,3]\n",
    "val = 3\n",
    "\n",
    "def removeElement(nums,val):\n",
    "    for idx,el, in enumerate(nums):\n",
    "        if el==val:\n",
    "            nums.pop(idx)\n",
    "            nums.append(\"_\")\n",
    "    return nums\n",
    "\n",
    "removeElement(nums,val)\n"
   ]
  },
  {
   "cell_type": "code",
   "execution_count": 4,
   "metadata": {},
   "outputs": [
    {
     "data": {
      "text/plain": [
       "1"
      ]
     },
     "execution_count": 4,
     "metadata": {},
     "output_type": "execute_result"
    }
   ],
   "source": [
    "#35 - Search Inser Position\n",
    "\n",
    "nums = [1,3,5,6]\n",
    "target = 2\n",
    "\n",
    "\n",
    "def searchInsert(nums,target):\n",
    "    if target in nums:\n",
    "        return nums.index(target)\n",
    "    elif target<min(nums): \n",
    "        return 0\n",
    "    \n",
    "    for i in range(len(nums)-1):\n",
    "        if target>nums[i] and target<nums[i+1]:\n",
    "            return i+1\n",
    "    else:\n",
    "        return len(nums)    \n",
    "\n",
    "searchInsert(nums,target)\n",
    "    "
   ]
  },
  {
   "cell_type": "code",
   "execution_count": 5,
   "metadata": {},
   "outputs": [
    {
     "data": {
      "text/plain": [
       "[1, 0]"
      ]
     },
     "execution_count": 5,
     "metadata": {},
     "output_type": "execute_result"
    }
   ],
   "source": [
    "#66 - Plus one\n",
    "\n",
    "digits = [9]\n",
    "\n",
    "def plusOne(digits):\n",
    "    x = int(''.join(map(str,digits))) + 1\n",
    "    return list(map(int,str(x)))\n",
    "\n",
    "plusOne(digits)\n"
   ]
  },
  {
   "cell_type": "code",
   "execution_count": 6,
   "metadata": {},
   "outputs": [
    {
     "data": {
      "text/plain": [
       "'10101'"
      ]
     },
     "execution_count": 6,
     "metadata": {},
     "output_type": "execute_result"
    }
   ],
   "source": [
    "#67 - Add Binary\n",
    "\n",
    "a = \"1010\"\n",
    "b = \"1011\"\n",
    "\n",
    "def addBinary(a,b):\n",
    "    a_int = int(a,2)\n",
    "    b_int = int(b,2)\n",
    "    total = a_int + b_int\n",
    "    binar = bin(total)[2:]\n",
    "    return binar\n",
    "addBinary(a,b) "
   ]
  },
  {
   "cell_type": "code",
   "execution_count": 7,
   "metadata": {},
   "outputs": [
    {
     "data": {
      "text/plain": [
       "5"
      ]
     },
     "execution_count": 7,
     "metadata": {},
     "output_type": "execute_result"
    }
   ],
   "source": [
    "#121 - Best Time to Buy and Sell Stock\n",
    "\n",
    "\n",
    "prices = [7,1,5,3,6,4]\n",
    "\n",
    "\n",
    "def maxProfit(prices):\n",
    "    mx = 0\n",
    "    nx_mx = 0\n",
    "    \n",
    "    for idx,el in enumerate(prices):\n",
    "        if (idx+1)!=len(prices):\n",
    "            nx_mx = max(prices[idx+1:])\n",
    "        \n",
    "        if (nx_mx - el) > mx:\n",
    "            mx = (nx_mx - el)\n",
    "    return mx\n",
    "\n",
    "maxProfit(prices)"
   ]
  },
  {
   "cell_type": "code",
   "execution_count": 8,
   "metadata": {},
   "outputs": [
    {
     "data": {
      "text/plain": [
       "1"
      ]
     },
     "execution_count": 8,
     "metadata": {},
     "output_type": "execute_result"
    }
   ],
   "source": [
    "#136. Single Number\n",
    "\n",
    "nums = [2,2,1]\n",
    "def singleNumber(nums):\n",
    "    return [i for i in nums if nums.count(i)==1][0]\n",
    "\n",
    "singleNumber(nums)\n",
    "  "
   ]
  },
  {
   "cell_type": "code",
   "execution_count": 9,
   "metadata": {},
   "outputs": [
    {
     "data": {
      "text/plain": [
       "2"
      ]
     },
     "execution_count": 9,
     "metadata": {},
     "output_type": "execute_result"
    }
   ],
   "source": [
    "#169 - Majority element\n",
    "\n",
    "\n",
    "nums = [2,2,1,1,1,2,2]\n",
    "\n",
    "\n",
    "def majorityElement(nums):\n",
    "    return [i for i in nums if nums.count(i)>len(nums)/2][0]\n",
    "\n",
    "majorityElement(nums)\n"
   ]
  },
  {
   "cell_type": "code",
   "execution_count": 10,
   "metadata": {},
   "outputs": [
    {
     "data": {
      "text/plain": [
       "True"
      ]
     },
     "execution_count": 10,
     "metadata": {},
     "output_type": "execute_result"
    }
   ],
   "source": [
    "#202 - Happy number\n",
    "\n",
    "n = 19\n",
    "\n",
    "def isHappy(n):\n",
    "    vls = []\n",
    "    \n",
    "    while True:\n",
    "        n = sum([int(i)**2 for i in str(n)])\n",
    "        \n",
    "        if n==1:\n",
    "            return True\n",
    "        elif n in vls:\n",
    "            return False\n",
    "        \n",
    "        vls.append(n)\n",
    "\n",
    "isHappy(n)"
   ]
  },
  {
   "cell_type": "code",
   "execution_count": 11,
   "metadata": {},
   "outputs": [
    {
     "data": {
      "text/plain": [
       "2"
      ]
     },
     "execution_count": 11,
     "metadata": {},
     "output_type": "execute_result"
    }
   ],
   "source": [
    "#258 - Add Digits\n",
    "\n",
    "n = 38\n",
    "\n",
    "def addDigits(n):\n",
    "    while True:\n",
    "        n = sum([int(i) for i in str(n)])\n",
    "        if len(str(n))==1:\n",
    "            return n\n",
    "            \n",
    "addDigits(38)"
   ]
  },
  {
   "cell_type": "code",
   "execution_count": 12,
   "metadata": {},
   "outputs": [
    {
     "name": "stdout",
     "output_type": "stream",
     "text": [
      "22 False\n",
      "23 True\n",
      "24 True\n",
      "25 True\n",
      "26 False\n",
      "27 True\n",
      "28 False\n",
      "29 True\n"
     ]
    }
   ],
   "source": [
    "# 263 - Ugly Number\n",
    "\n",
    "def isPrime(num):\n",
    "    for i in range(2,num):\n",
    "        if num % i ==0:\n",
    "            return False\n",
    "    return True\n",
    "\n",
    "def isUgly(n):\n",
    "    for i in range(2,n):\n",
    "        if all([n % i == 0, isPrime(i), i not in [2,3,5]]):\n",
    "            return False\n",
    "    return True\n",
    "\n",
    "for i in range(22,30):\n",
    "    print(i, isUgly(i))\n",
    "\n"
   ]
  },
  {
   "cell_type": "code",
   "execution_count": 13,
   "metadata": {},
   "outputs": [
    {
     "data": {
      "text/plain": [
       "2"
      ]
     },
     "execution_count": 13,
     "metadata": {},
     "output_type": "execute_result"
    }
   ],
   "source": [
    "# 268 - Missing array\n",
    "\n",
    "\n",
    "nums = [3,0,1]\n",
    "\n",
    "\n",
    "def missingNumber(nums):\n",
    "    for n in range(len(nums)+1):\n",
    "        if n not in nums:\n",
    "            return n\n",
    "        \n",
    "missingNumber(nums)"
   ]
  },
  {
   "cell_type": "code",
   "execution_count": 14,
   "metadata": {},
   "outputs": [
    {
     "data": {
      "text/plain": [
       "True"
      ]
     },
     "execution_count": 14,
     "metadata": {},
     "output_type": "execute_result"
    }
   ],
   "source": [
    "#290 - Word Pattern\n",
    "\n",
    "pattern = \"jquery\"\n",
    "s = \"jquery\"\n",
    "\n",
    "\n",
    "# Indices ვადარებ თითოეულს რორამე\n",
    "def wordPattern(pattern,s):\n",
    "    if \" \" in s:\n",
    "        s = s.split(' ')\n",
    "    elif \" \" not in s and len(pattern) == 1:\n",
    "        return True\n",
    "    \n",
    "    for i in range(len(pattern)):\n",
    "        indices_1 = [idx for idx,el in enumerate(pattern) if el==pattern[i]]\n",
    "        indices_2 = [idx for idx,el in enumerate(s) if el==s[i]]\n",
    "        \n",
    "        if indices_1 != indices_2:\n",
    "            return False\n",
    "    return True\n",
    "\n",
    "wordPattern(pattern,s)"
   ]
  },
  {
   "cell_type": "code",
   "execution_count": 15,
   "metadata": {},
   "outputs": [],
   "source": [
    "#292 - Nim Game\n",
    "\n",
    "n = 5\n",
    "\n",
    "def canWinNim(n):\n",
    "    if  (n % 4)!=0:\n",
    "        return True\n",
    "    else:\n",
    "        return False\n"
   ]
  },
  {
   "cell_type": "code",
   "execution_count": 16,
   "metadata": {},
   "outputs": [
    {
     "name": "stdout",
     "output_type": "stream",
     "text": [
      "4\n",
      "4\n",
      "4\n",
      "4\n",
      "4\n",
      "5\n"
     ]
    }
   ],
   "source": [
    "#441 - Arranging Coins\n",
    "\n",
    "def arrangeCoins(n):\n",
    "    counter = 0\n",
    "    sm =  0 \n",
    "    \n",
    "    while True:\n",
    "        sm += counter + 1\n",
    "        if sm>n:\n",
    "            return counter\n",
    "        counter+=1\n",
    "\n",
    "\n",
    "for i in range(10,16):\n",
    "    print(arrangeCoins(i))"
   ]
  },
  {
   "cell_type": "code",
   "execution_count": 17,
   "metadata": {},
   "outputs": [
    {
     "data": {
      "text/plain": [
       "[5, 6]"
      ]
     },
     "execution_count": 17,
     "metadata": {},
     "output_type": "execute_result"
    }
   ],
   "source": [
    "#448 - Find All Numbers Disappeared in an Array\n",
    "\n",
    "nums = [4,3,2,7,8,2,3,1]\n",
    "\n",
    "\n",
    "def findDisappearedNumbers(nums):\n",
    "    return [i for i in range(1,len(nums)+1) if i not in nums]\n",
    "\n",
    "\n",
    "findDisappearedNumbers(nums)\n"
   ]
  },
  {
   "cell_type": "code",
   "execution_count": 18,
   "metadata": {},
   "outputs": [
    {
     "data": {
      "text/plain": [
       "False"
      ]
     },
     "execution_count": 18,
     "metadata": {},
     "output_type": "execute_result"
    }
   ],
   "source": [
    "#459 - Repeated Substring Pattern\n",
    "\n",
    "s = \"aba\"\n",
    "\n",
    "def repeatedSubstringPattern(s):\n",
    "    \n",
    "    for i in range(1,len(s)//2+1):\n",
    "        sub = s[:i]\n",
    "        if len(s.replace(sub,\"\"))==0:\n",
    "             return True\n",
    "    return False\n",
    "\n",
    "repeatedSubstringPattern(s)"
   ]
  },
  {
   "cell_type": "code",
   "execution_count": 19,
   "metadata": {},
   "outputs": [],
   "source": [
    "#463 - Island Perimeter\n",
    "\n",
    "grid = [[0,1,0,0],[1,1,1,0],[0,1,0,0],[1,1,0,0]]\n",
    "\n",
    "rows = len(grid)\n",
    "cols  = len(grid[0])\n",
    "\n",
    "counter = 0            \n"
   ]
  },
  {
   "cell_type": "code",
   "execution_count": 20,
   "metadata": {},
   "outputs": [
    {
     "data": {
      "text/plain": [
       "2"
      ]
     },
     "execution_count": 20,
     "metadata": {},
     "output_type": "execute_result"
    }
   ],
   "source": [
    "#485 - Max Consecutive Ones\n",
    "\n",
    "nums = [1,0,1,1,0,1]\n",
    "\n",
    "\n",
    "def findMaxConsecutiveOnes(nums):\n",
    "    mx = 0\n",
    "    for idx in range(len(nums)):\n",
    "        for i in range(idx+1,len(nums)+1):\n",
    "            arr = nums[idx:i]\n",
    "            if all(arr) and len(arr)>mx:\n",
    "                mx = len(arr)\n",
    "\n",
    "    return mx\n",
    "\n",
    "findMaxConsecutiveOnes(nums)"
   ]
  },
  {
   "cell_type": "code",
   "execution_count": 21,
   "metadata": {},
   "outputs": [
    {
     "name": "stdout",
     "output_type": "stream",
     "text": [
      "37 1\n"
     ]
    }
   ],
   "source": [
    "#492 - Construct the Rectangle\n",
    "\n",
    "area = 37\n",
    "\n",
    "mn_dif = area\n",
    "width = 0\n",
    "length = 0\n",
    "\n",
    "\n",
    "for w in range(1,area+1):\n",
    "    for l in range(w,area+1):\n",
    "        ar = w * l\n",
    "        diff = l - w\n",
    "        if all([ar == area, l>=w, diff<mn_dif]):\n",
    "            width = w\n",
    "            length = l\n",
    "            mn_dif = diff\n",
    "        \n",
    "print(length,width)\n"
   ]
  },
  {
   "cell_type": "code",
   "execution_count": 22,
   "metadata": {},
   "outputs": [
    {
     "data": {
      "text/plain": [
       "['Alaska', 'Dad']"
      ]
     },
     "execution_count": 22,
     "metadata": {},
     "output_type": "execute_result"
    }
   ],
   "source": [
    "#500 - Keyboard Row\n",
    "\n",
    "checker = [\"qwertyuiop\", \"asdfghjkl\", \"zxcvbnm\"]\n",
    "words = [\"Hello\",\"Alaska\",\"Dad\",\"Peace\"]\n",
    "\n",
    "def findWords(words):\n",
    "    fin = []\n",
    "    \n",
    "    for i in words:\n",
    "        frst = [j for j in i.lower() if j in \"qwertyuiop\"]\n",
    "        scnd = [j for j in i.lower() if j in \"asdfghjkl\"]\n",
    "        thrd = [j for j in i.lower() if j in \"zxcvbnm\"]\n",
    "\n",
    "        ln = len(i)\n",
    "        if any([len(frst)==ln,len(scnd)==ln,len(thrd)==ln]):\n",
    "            fin.append(i)\n",
    "    return fin\n",
    "\n",
    "\n",
    "findWords(words)"
   ]
  },
  {
   "cell_type": "code",
   "execution_count": 23,
   "metadata": {},
   "outputs": [
    {
     "data": {
      "text/plain": [
       "-6"
      ]
     },
     "execution_count": 23,
     "metadata": {},
     "output_type": "execute_result"
    }
   ],
   "source": [
    "#628 - Maximum Product of Three Numbers\n",
    "\n",
    "nums = [-1,-2,-3]\n",
    "\n",
    "def maximumProduct(nums):\n",
    "    mx = -10000000000\n",
    "    \n",
    "    for i in range(len(nums)):\n",
    "        for j in range(i+1,len(nums)):\n",
    "            for k in range(j+1,len(nums)):\n",
    "                mul = nums[i] * nums[j] * nums[k]\n",
    "                mx = max(mx,mul)\n",
    "    return mx\n",
    "\n",
    "maximumProduct(nums)"
   ]
  },
  {
   "cell_type": "code",
   "execution_count": 24,
   "metadata": {},
   "outputs": [
    {
     "data": {
      "text/plain": [
       "2.0"
      ]
     },
     "execution_count": 24,
     "metadata": {},
     "output_type": "execute_result"
    }
   ],
   "source": [
    "#643 - Maximum Average Subarray I\n",
    "\n",
    "\n",
    "nums = [0,1,1,3,3]\n",
    "k = 4\n",
    "\n",
    "def findMaxAverage(nums,k):\n",
    "    mx_avg = -1000000\n",
    "    \n",
    "    if k>=len(nums):\n",
    "        return sum(nums) / len(nums)\n",
    "    \n",
    "    for i in range(len(nums)- k + 1):\n",
    "        arr = nums[i:i+k]\n",
    "        avg = sum(arr) / k\n",
    "        mx_avg = max(mx_avg,avg)\n",
    "    return mx_avg\n",
    "\n",
    "findMaxAverage(nums,k)"
   ]
  },
  {
   "cell_type": "code",
   "execution_count": 25,
   "metadata": {},
   "outputs": [
    {
     "data": {
      "text/plain": [
       "True"
      ]
     },
     "execution_count": 25,
     "metadata": {},
     "output_type": "execute_result"
    }
   ],
   "source": [
    "#680 - Valid Palindrome II\n",
    "\n",
    "s = \"aba\"\n",
    "\n",
    "def validPalindrome(s):\n",
    "    for i in range(len(s)):\n",
    "        nw_w = s[:i] + s[i+1:]\n",
    "        if nw_w == nw_w[::-1]:\n",
    "            return True\n",
    "    return False\n",
    "\n",
    "validPalindrome(s)"
   ]
  },
  {
   "cell_type": "code",
   "execution_count": 26,
   "metadata": {},
   "outputs": [
    {
     "data": {
      "text/plain": [
       "-1"
      ]
     },
     "execution_count": 26,
     "metadata": {},
     "output_type": "execute_result"
    }
   ],
   "source": [
    "#724 - Find Pivot Index\n",
    "\n",
    "nums = [1,2,3]\n",
    "\n",
    "def pivotIndex(nums):\n",
    "    for i in range(len(nums)):\n",
    "        left = nums[:i]\n",
    "        right = nums[i+1:]\n",
    "        if sum(left) == sum(right):\n",
    "            return i\n",
    "    return -1 \n",
    " \n",
    "pivotIndex(nums)"
   ]
  },
  {
   "cell_type": "code",
   "execution_count": 27,
   "metadata": {},
   "outputs": [
    {
     "data": {
      "text/plain": [
       "[48, 55, 66, 77]"
      ]
     },
     "execution_count": 27,
     "metadata": {},
     "output_type": "execute_result"
    }
   ],
   "source": [
    "#728 - Self Dividing Numbers\n",
    "\n",
    "left = 47\n",
    "right = 85\n",
    "\n",
    "\n",
    "def selfDividingNumbers(left,right):\n",
    "    fin = []\n",
    "    \n",
    "    for i in range(left,right+1):\n",
    "        if '0' in str(i):\n",
    "            continue\n",
    "        arr = [j for j in str(i) if i % int(j)==0]\n",
    "        if len(arr) == len(str(i)):\n",
    "           fin.append(i) \n",
    "    return fin\n",
    "\n",
    "selfDividingNumbers(47,85)"
   ]
  },
  {
   "cell_type": "code",
   "execution_count": null,
   "metadata": {},
   "outputs": [],
   "source": []
  },
  {
   "cell_type": "code",
   "execution_count": null,
   "metadata": {},
   "outputs": [],
   "source": []
  }
 ],
 "metadata": {
  "kernelspec": {
   "display_name": "base",
   "language": "python",
   "name": "python3"
  },
  "language_info": {
   "codemirror_mode": {
    "name": "ipython",
    "version": 3
   },
   "file_extension": ".py",
   "mimetype": "text/x-python",
   "name": "python",
   "nbconvert_exporter": "python",
   "pygments_lexer": "ipython3",
   "version": "3.11.5"
  }
 },
 "nbformat": 4,
 "nbformat_minor": 2
}
