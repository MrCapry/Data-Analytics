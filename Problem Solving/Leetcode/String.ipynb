{
 "cells": [
  {
   "cell_type": "code",
   "execution_count": 1,
   "id": "44369327",
   "metadata": {},
   "outputs": [
    {
     "name": "stdout",
     "output_type": "stream",
     "text": [
      "3\n",
      "3\n",
      "1\n"
     ]
    }
   ],
   "source": [
    "# 3. Longest Substring Without Repeating Characters\n",
    "# Time Limit Exceeded\n",
    "chck = [\"abcabcbb\",\"pwwkew\",\"bbbbb\"]\n",
    "\n",
    "def lengthOfLongestSubstring(s):\n",
    "        emp_ls = []\n",
    "        nw_str = ''\n",
    "        if s=='':\n",
    "            return 0\n",
    "\n",
    "        for i in range(len(s)):\n",
    "            for k in range(i+1,len(s)+1):\n",
    "                if len(s[i:k])==len(set(s[i:k])) and len(nw_str)<len(s[i:k]):\n",
    "                    nw_str = s[i:k]\n",
    "        return len(nw_str)     \n",
    "\n",
    "for i in chck:\n",
    "    print(lengthOfLongestSubstring(i))"
   ]
  },
  {
   "cell_type": "code",
   "execution_count": 2,
   "id": "00d0539a",
   "metadata": {},
   "outputs": [
    {
     "name": "stdout",
     "output_type": "stream",
     "text": [
      "bb\n"
     ]
    }
   ],
   "source": [
    "# 5. Longest Palindromic Substring\n",
    "\n",
    "s = \"cbbd\"\n",
    "fin_wr = ''\n",
    "\n",
    "for i in range(0,len(s)+1):\n",
    "    for k in range(i,len(s)+1):\n",
    "        wrd = s[i:k+1]\n",
    "        if wrd==wrd[::-1] and len(wrd)>len(fin_wr):\n",
    "            fin_wr = wrd\n",
    "        \n",
    "print(fin_wr)  "
   ]
  },
  {
   "cell_type": "code",
   "execution_count": 2,
   "id": "9f61fd72",
   "metadata": {
    "collapsed": true
   },
   "outputs": [
    {
     "name": "stdout",
     "output_type": "stream",
     "text": [
      "1 f flower\n",
      "2 f flow\n",
      "3 f flight\n",
      "1 fl flower\n",
      "2 fl flow\n",
      "3 fl flight\n",
      "1 flo flower\n",
      "2 flo flow\n",
      "1 flow flower\n",
      "2 flow flow\n"
     ]
    },
    {
     "data": {
      "text/plain": [
       "'fl'"
      ]
     },
     "execution_count": 2,
     "metadata": {},
     "output_type": "execute_result"
    }
   ],
   "source": [
    "# 14. Longest Common Prefix\n",
    "# print-ს შევცვლი retun-ით და ეგ იქნება\n",
    "\n",
    "strs = [\"flower\",\"flow\",\"flight\"]\n",
    "emp_str = ''\n",
    "mn = min(map(len,strs))\n",
    "fl = ''.join(filter(lambda x: len(x)==mn,strs))\n",
    "\n",
    "for i in range(1,mn+1):\n",
    "    cn = 0\n",
    "    w = fl[:i]\n",
    "    for st in strs:\n",
    "        if st.startswith(w):\n",
    "            cn+=1\n",
    "            print(cn,w,st)\n",
    "        if cn==len(strs):\n",
    "            emp_str=w\n",
    "emp_str"
   ]
  },
  {
   "cell_type": "code",
   "execution_count": 46,
   "id": "837118bb",
   "metadata": {},
   "outputs": [
    {
     "name": "stdout",
     "output_type": "stream",
     "text": [
      "0\n"
     ]
    }
   ],
   "source": [
    "# 28. Find the Index of the First Occurrence in a String\n",
    "\n",
    "haystack = \"sadbutsad\" \n",
    "needle = \"sad\"\n",
    "\n",
    "x = haystack.find(needle)\n",
    "print(x)"
   ]
  },
  {
   "cell_type": "code",
   "execution_count": 47,
   "id": "9d4204cf",
   "metadata": {},
   "outputs": [
    {
     "data": {
      "text/plain": [
       "5"
      ]
     },
     "execution_count": 47,
     "metadata": {},
     "output_type": "execute_result"
    }
   ],
   "source": [
    "# 58. Length of Last Word\n",
    "\n",
    "s = \"Hello World\"\n",
    "len(list(s.split())[-1])"
   ]
  },
  {
   "cell_type": "code",
   "execution_count": 7,
   "id": "555066b6",
   "metadata": {},
   "outputs": [
    {
     "name": "stdout",
     "output_type": "stream",
     "text": [
      "True\n"
     ]
    }
   ],
   "source": [
    "# 242. Valid Anagram\n",
    "s = \"anagram\"\n",
    "t = \"nagaram\"\n",
    "\n",
    "if len(s)!=len(t):\n",
    "    print(False) # return False\n",
    "\n",
    "cnt = 0\n",
    "\n",
    "for i in s:\n",
    "    if s.count(i)==t.count(i):\n",
    "        cnt+=1\n",
    "if cnt==len(s):\n",
    "    print(True)\n",
    "else:\n",
    "    print(False)"
   ]
  },
  {
   "cell_type": "code",
   "execution_count": 9,
   "id": "9870854e",
   "metadata": {},
   "outputs": [
    {
     "name": "stdout",
     "output_type": "stream",
     "text": [
      "True\n"
     ]
    }
   ],
   "source": [
    "# 383. Ransome Note\n",
    "ransomNote = \"aa\"\n",
    "magazine = \"aab\"\n",
    "\n",
    "cnt = 0\n",
    "for i in ransomNote:\n",
    "    if ransomNote.count(i)<=magazine.count(i):\n",
    "        cnt+=1\n",
    "if cnt==len(ransomNote):\n",
    "    print(True)\n",
    "else:\n",
    "    print(False)"
   ]
  },
  {
   "cell_type": "code",
   "execution_count": 15,
   "id": "ed0560d2",
   "metadata": {},
   "outputs": [
    {
     "name": "stdout",
     "output_type": "stream",
     "text": [
      "True\n"
     ]
    }
   ],
   "source": [
    "from collections import Counter\n",
    "s1 = Counter(ransomNote)\n",
    "s2 = Counter(magazine)\n",
    "# კარგი package-ია ესაც\n",
    "\n",
    "\n",
    "ransomNote = \"aa\"\n",
    "magazine = \"aab\"\n",
    "\n",
    "cnt = 0\n",
    "for i in ransomNote:\n",
    "    if ransomNote.count(i)>magazine.count(i):\n",
    "        print(False)\n",
    "else:\n",
    "    print(True)\n"
   ]
  },
  {
   "cell_type": "code",
   "execution_count": 17,
   "id": "339f713d",
   "metadata": {
    "collapsed": true
   },
   "outputs": [
    {
     "name": "stdout",
     "output_type": "stream",
     "text": [
      "2\n",
      "7\n",
      "8\n",
      "10\n",
      "-1\n"
     ]
    }
   ],
   "source": [
    "# 387. First Unique Character in String\n",
    "s = \"loveleetcode\"\n",
    "\n",
    "for i in s:\n",
    "    if s.count(i)==1:\n",
    "        print(s.find(i))\n",
    "else:\n",
    "    print(-1)"
   ]
  },
  {
   "cell_type": "code",
   "execution_count": 20,
   "id": "bcc33706",
   "metadata": {},
   "outputs": [
    {
     "name": "stdout",
     "output_type": "stream",
     "text": [
      "e\n"
     ]
    }
   ],
   "source": [
    "# 389. Find the diffrence\n",
    "s = \"abcd\"\n",
    "t = \"abcde\"\n",
    "\n",
    "for i in t:\n",
    "    if s.count(i)!=t.count(i):\n",
    "        print(i)"
   ]
  },
  {
   "cell_type": "code",
   "execution_count": 54,
   "id": "8ad94199",
   "metadata": {},
   "outputs": [
    {
     "name": "stdout",
     "output_type": "stream",
     "text": [
      "134\n"
     ]
    }
   ],
   "source": [
    "# 415. add String\n",
    "\n",
    "num1 = \"11\"\n",
    "num2 = \"123\"\n",
    "\n",
    "print(int(num1)+int(num2))"
   ]
  },
  {
   "cell_type": "code",
   "execution_count": null,
   "id": "fd276212",
   "metadata": {},
   "outputs": [],
   "source": []
  }
 ],
 "metadata": {
  "kernelspec": {
   "display_name": "Python 3 (ipykernel)",
   "language": "python",
   "name": "python3"
  },
  "language_info": {
   "codemirror_mode": {
    "name": "ipython",
    "version": 3
   },
   "file_extension": ".py",
   "mimetype": "text/x-python",
   "name": "python",
   "nbconvert_exporter": "python",
   "pygments_lexer": "ipython3",
   "version": "3.11.5"
  }
 },
 "nbformat": 4,
 "nbformat_minor": 5
}
